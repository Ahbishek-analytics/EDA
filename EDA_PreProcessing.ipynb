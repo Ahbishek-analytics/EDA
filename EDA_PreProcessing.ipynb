{
 "cells": [
  {
   "cell_type": "markdown",
   "metadata": {},
   "source": [
    "# EDA and PreProcessing"
   ]
  },
  {
   "cell_type": "markdown",
   "metadata": {},
   "source": [
    "## Load Packages"
   ]
  },
  {
   "cell_type": "code",
   "execution_count": 7,
   "metadata": {},
   "outputs": [],
   "source": [
    "import pandas as pd\n",
    "import numpy as np\n",
    "import matplotlib.pyplot as plt\n",
    "import seaborn as sns\n",
    "%matplotlib inline"
   ]
  },
  {
   "cell_type": "markdown",
   "metadata": {},
   "source": [
    "## Read csv file"
   ]
  },
  {
   "cell_type": "code",
   "execution_count": 8,
   "metadata": {},
   "outputs": [],
   "source": [
    "df = pd.read_csv('Loan_data.csv')"
   ]
  },
  {
   "cell_type": "code",
   "execution_count": 9,
   "metadata": {},
   "outputs": [
    {
     "data": {
      "text/html": [
       "<div>\n",
       "<style scoped>\n",
       "    .dataframe tbody tr th:only-of-type {\n",
       "        vertical-align: middle;\n",
       "    }\n",
       "\n",
       "    .dataframe tbody tr th {\n",
       "        vertical-align: top;\n",
       "    }\n",
       "\n",
       "    .dataframe thead th {\n",
       "        text-align: right;\n",
       "    }\n",
       "</style>\n",
       "<table border=\"1\" class=\"dataframe\">\n",
       "  <thead>\n",
       "    <tr style=\"text-align: right;\">\n",
       "      <th></th>\n",
       "      <th>OBS.</th>\n",
       "      <th>CHK_ACCT</th>\n",
       "      <th>DURATION</th>\n",
       "      <th>HISTORY</th>\n",
       "      <th>FURNITURE</th>\n",
       "      <th>RADIO.TV</th>\n",
       "      <th>EDUCATION</th>\n",
       "      <th>RETRAINING</th>\n",
       "      <th>AMOUNT</th>\n",
       "      <th>SAV_ACCT</th>\n",
       "      <th>...</th>\n",
       "      <th>AGE</th>\n",
       "      <th>OTHER_INSTALL</th>\n",
       "      <th>RENT</th>\n",
       "      <th>OWN_RES</th>\n",
       "      <th>NUM_CREDITS</th>\n",
       "      <th>JOB</th>\n",
       "      <th>NUM_DEPENDENTS</th>\n",
       "      <th>TELEPHONE</th>\n",
       "      <th>FOREIGN</th>\n",
       "      <th>DEFAULT</th>\n",
       "    </tr>\n",
       "  </thead>\n",
       "  <tbody>\n",
       "    <tr>\n",
       "      <th>count</th>\n",
       "      <td>1000.000000</td>\n",
       "      <td>1000.000000</td>\n",
       "      <td>997.000000</td>\n",
       "      <td>1000.00000</td>\n",
       "      <td>1000.000000</td>\n",
       "      <td>1000.000000</td>\n",
       "      <td>1000.000000</td>\n",
       "      <td>1000.000000</td>\n",
       "      <td>996.000000</td>\n",
       "      <td>1000.000000</td>\n",
       "      <td>...</td>\n",
       "      <td>998.000000</td>\n",
       "      <td>1000.000000</td>\n",
       "      <td>1000.000000</td>\n",
       "      <td>1000.000000</td>\n",
       "      <td>1000.000000</td>\n",
       "      <td>1000.000000</td>\n",
       "      <td>1000.000000</td>\n",
       "      <td>1000.000000</td>\n",
       "      <td>1000.000000</td>\n",
       "      <td>1000.000000</td>\n",
       "    </tr>\n",
       "    <tr>\n",
       "      <th>mean</th>\n",
       "      <td>500.500000</td>\n",
       "      <td>1.577000</td>\n",
       "      <td>20.893681</td>\n",
       "      <td>2.54500</td>\n",
       "      <td>0.181000</td>\n",
       "      <td>0.280000</td>\n",
       "      <td>0.050000</td>\n",
       "      <td>0.097000</td>\n",
       "      <td>3279.088353</td>\n",
       "      <td>1.105000</td>\n",
       "      <td>...</td>\n",
       "      <td>35.523046</td>\n",
       "      <td>0.186000</td>\n",
       "      <td>0.179000</td>\n",
       "      <td>0.713000</td>\n",
       "      <td>1.407000</td>\n",
       "      <td>1.904000</td>\n",
       "      <td>1.155000</td>\n",
       "      <td>0.404000</td>\n",
       "      <td>0.037000</td>\n",
       "      <td>0.700000</td>\n",
       "    </tr>\n",
       "    <tr>\n",
       "      <th>std</th>\n",
       "      <td>288.819436</td>\n",
       "      <td>1.257638</td>\n",
       "      <td>12.063783</td>\n",
       "      <td>1.08312</td>\n",
       "      <td>0.385211</td>\n",
       "      <td>0.449224</td>\n",
       "      <td>0.218054</td>\n",
       "      <td>0.296106</td>\n",
       "      <td>2825.671422</td>\n",
       "      <td>1.580023</td>\n",
       "      <td>...</td>\n",
       "      <td>11.343412</td>\n",
       "      <td>0.389301</td>\n",
       "      <td>0.383544</td>\n",
       "      <td>0.452588</td>\n",
       "      <td>0.577654</td>\n",
       "      <td>0.653614</td>\n",
       "      <td>0.362086</td>\n",
       "      <td>0.490943</td>\n",
       "      <td>0.188856</td>\n",
       "      <td>0.458487</td>\n",
       "    </tr>\n",
       "    <tr>\n",
       "      <th>min</th>\n",
       "      <td>1.000000</td>\n",
       "      <td>0.000000</td>\n",
       "      <td>4.000000</td>\n",
       "      <td>0.00000</td>\n",
       "      <td>0.000000</td>\n",
       "      <td>0.000000</td>\n",
       "      <td>0.000000</td>\n",
       "      <td>0.000000</td>\n",
       "      <td>250.000000</td>\n",
       "      <td>0.000000</td>\n",
       "      <td>...</td>\n",
       "      <td>19.000000</td>\n",
       "      <td>0.000000</td>\n",
       "      <td>0.000000</td>\n",
       "      <td>0.000000</td>\n",
       "      <td>1.000000</td>\n",
       "      <td>0.000000</td>\n",
       "      <td>1.000000</td>\n",
       "      <td>0.000000</td>\n",
       "      <td>0.000000</td>\n",
       "      <td>0.000000</td>\n",
       "    </tr>\n",
       "    <tr>\n",
       "      <th>25%</th>\n",
       "      <td>250.750000</td>\n",
       "      <td>0.000000</td>\n",
       "      <td>12.000000</td>\n",
       "      <td>2.00000</td>\n",
       "      <td>0.000000</td>\n",
       "      <td>0.000000</td>\n",
       "      <td>0.000000</td>\n",
       "      <td>0.000000</td>\n",
       "      <td>1369.750000</td>\n",
       "      <td>0.000000</td>\n",
       "      <td>...</td>\n",
       "      <td>27.000000</td>\n",
       "      <td>0.000000</td>\n",
       "      <td>0.000000</td>\n",
       "      <td>0.000000</td>\n",
       "      <td>1.000000</td>\n",
       "      <td>2.000000</td>\n",
       "      <td>1.000000</td>\n",
       "      <td>0.000000</td>\n",
       "      <td>0.000000</td>\n",
       "      <td>0.000000</td>\n",
       "    </tr>\n",
       "    <tr>\n",
       "      <th>50%</th>\n",
       "      <td>500.500000</td>\n",
       "      <td>1.000000</td>\n",
       "      <td>18.000000</td>\n",
       "      <td>2.00000</td>\n",
       "      <td>0.000000</td>\n",
       "      <td>0.000000</td>\n",
       "      <td>0.000000</td>\n",
       "      <td>0.000000</td>\n",
       "      <td>2324.000000</td>\n",
       "      <td>0.000000</td>\n",
       "      <td>...</td>\n",
       "      <td>33.000000</td>\n",
       "      <td>0.000000</td>\n",
       "      <td>0.000000</td>\n",
       "      <td>1.000000</td>\n",
       "      <td>1.000000</td>\n",
       "      <td>2.000000</td>\n",
       "      <td>1.000000</td>\n",
       "      <td>0.000000</td>\n",
       "      <td>0.000000</td>\n",
       "      <td>1.000000</td>\n",
       "    </tr>\n",
       "    <tr>\n",
       "      <th>75%</th>\n",
       "      <td>750.250000</td>\n",
       "      <td>3.000000</td>\n",
       "      <td>24.000000</td>\n",
       "      <td>4.00000</td>\n",
       "      <td>0.000000</td>\n",
       "      <td>1.000000</td>\n",
       "      <td>0.000000</td>\n",
       "      <td>0.000000</td>\n",
       "      <td>3973.750000</td>\n",
       "      <td>2.000000</td>\n",
       "      <td>...</td>\n",
       "      <td>42.000000</td>\n",
       "      <td>0.000000</td>\n",
       "      <td>0.000000</td>\n",
       "      <td>1.000000</td>\n",
       "      <td>2.000000</td>\n",
       "      <td>2.000000</td>\n",
       "      <td>1.000000</td>\n",
       "      <td>1.000000</td>\n",
       "      <td>0.000000</td>\n",
       "      <td>1.000000</td>\n",
       "    </tr>\n",
       "    <tr>\n",
       "      <th>max</th>\n",
       "      <td>1000.000000</td>\n",
       "      <td>3.000000</td>\n",
       "      <td>72.000000</td>\n",
       "      <td>4.00000</td>\n",
       "      <td>1.000000</td>\n",
       "      <td>1.000000</td>\n",
       "      <td>1.000000</td>\n",
       "      <td>1.000000</td>\n",
       "      <td>18424.000000</td>\n",
       "      <td>4.000000</td>\n",
       "      <td>...</td>\n",
       "      <td>75.000000</td>\n",
       "      <td>1.000000</td>\n",
       "      <td>1.000000</td>\n",
       "      <td>1.000000</td>\n",
       "      <td>4.000000</td>\n",
       "      <td>3.000000</td>\n",
       "      <td>2.000000</td>\n",
       "      <td>1.000000</td>\n",
       "      <td>1.000000</td>\n",
       "      <td>1.000000</td>\n",
       "    </tr>\n",
       "  </tbody>\n",
       "</table>\n",
       "<p>8 rows × 27 columns</p>\n",
       "</div>"
      ],
      "text/plain": [
       "              OBS.     CHK_ACCT    DURATION     HISTORY    FURNITURE  \\\n",
       "count  1000.000000  1000.000000  997.000000  1000.00000  1000.000000   \n",
       "mean    500.500000     1.577000   20.893681     2.54500     0.181000   \n",
       "std     288.819436     1.257638   12.063783     1.08312     0.385211   \n",
       "min       1.000000     0.000000    4.000000     0.00000     0.000000   \n",
       "25%     250.750000     0.000000   12.000000     2.00000     0.000000   \n",
       "50%     500.500000     1.000000   18.000000     2.00000     0.000000   \n",
       "75%     750.250000     3.000000   24.000000     4.00000     0.000000   \n",
       "max    1000.000000     3.000000   72.000000     4.00000     1.000000   \n",
       "\n",
       "          RADIO.TV    EDUCATION   RETRAINING        AMOUNT     SAV_ACCT  \\\n",
       "count  1000.000000  1000.000000  1000.000000    996.000000  1000.000000   \n",
       "mean      0.280000     0.050000     0.097000   3279.088353     1.105000   \n",
       "std       0.449224     0.218054     0.296106   2825.671422     1.580023   \n",
       "min       0.000000     0.000000     0.000000    250.000000     0.000000   \n",
       "25%       0.000000     0.000000     0.000000   1369.750000     0.000000   \n",
       "50%       0.000000     0.000000     0.000000   2324.000000     0.000000   \n",
       "75%       1.000000     0.000000     0.000000   3973.750000     2.000000   \n",
       "max       1.000000     1.000000     1.000000  18424.000000     4.000000   \n",
       "\n",
       "          ...              AGE  OTHER_INSTALL         RENT      OWN_RES  \\\n",
       "count     ...       998.000000    1000.000000  1000.000000  1000.000000   \n",
       "mean      ...        35.523046       0.186000     0.179000     0.713000   \n",
       "std       ...        11.343412       0.389301     0.383544     0.452588   \n",
       "min       ...        19.000000       0.000000     0.000000     0.000000   \n",
       "25%       ...        27.000000       0.000000     0.000000     0.000000   \n",
       "50%       ...        33.000000       0.000000     0.000000     1.000000   \n",
       "75%       ...        42.000000       0.000000     0.000000     1.000000   \n",
       "max       ...        75.000000       1.000000     1.000000     1.000000   \n",
       "\n",
       "       NUM_CREDITS          JOB  NUM_DEPENDENTS    TELEPHONE      FOREIGN  \\\n",
       "count  1000.000000  1000.000000     1000.000000  1000.000000  1000.000000   \n",
       "mean      1.407000     1.904000        1.155000     0.404000     0.037000   \n",
       "std       0.577654     0.653614        0.362086     0.490943     0.188856   \n",
       "min       1.000000     0.000000        1.000000     0.000000     0.000000   \n",
       "25%       1.000000     2.000000        1.000000     0.000000     0.000000   \n",
       "50%       1.000000     2.000000        1.000000     0.000000     0.000000   \n",
       "75%       2.000000     2.000000        1.000000     1.000000     0.000000   \n",
       "max       4.000000     3.000000        2.000000     1.000000     1.000000   \n",
       "\n",
       "           DEFAULT  \n",
       "count  1000.000000  \n",
       "mean      0.700000  \n",
       "std       0.458487  \n",
       "min       0.000000  \n",
       "25%       0.000000  \n",
       "50%       1.000000  \n",
       "75%       1.000000  \n",
       "max       1.000000  \n",
       "\n",
       "[8 rows x 27 columns]"
      ]
     },
     "execution_count": 9,
     "metadata": {},
     "output_type": "execute_result"
    }
   ],
   "source": [
    "# Let's look at some statistical information about our dataframe.\n",
    "df.describe()"
   ]
  },
  {
   "cell_type": "markdown",
   "metadata": {},
   "source": [
    "#### but this is not useful for all the variables"
   ]
  },
  {
   "cell_type": "code",
   "execution_count": 10,
   "metadata": {},
   "outputs": [
    {
     "name": "stdout",
     "output_type": "stream",
     "text": [
      "   OBS.  CHK_ACCT  DURATION  HISTORY      CAR  FURNITURE  RADIO.TV  EDUCATION  \\\n",
      "0     1         0       6.0        4  UsedCar          0         1          0   \n",
      "1     2         1      48.0        2  UsedCar          0         1          0   \n",
      "2     3         3      12.0        4  UsedCar          0         0          1   \n",
      "3     4         0      42.0        2  UsedCar          1         0          0   \n",
      "4     5         0      24.0        3   NewCar          0         0          0   \n",
      "\n",
      "   RETRAINING  AMOUNT   ...      AGE  OTHER_INSTALL  RENT OWN_RES  \\\n",
      "0           0  1169.0   ...     67.0              0     0       1   \n",
      "1           0  5951.0   ...     22.0              0     0       1   \n",
      "2           0  2096.0   ...     49.0              0     0       1   \n",
      "3           0  7882.0   ...     45.0              0     0       0   \n",
      "4           0  4870.0   ...     53.0              0     0       0   \n",
      "\n",
      "   NUM_CREDITS  JOB  NUM_DEPENDENTS  TELEPHONE  FOREIGN  DEFAULT  \n",
      "0            2    2               1          1        0        1  \n",
      "1            1    2               1          0        0        0  \n",
      "2            1    1               2          0        0        1  \n",
      "3            1    2               2          0        0        1  \n",
      "4            2    2               2          0        0        0  \n",
      "\n",
      "[5 rows x 29 columns]\n"
     ]
    }
   ],
   "source": [
    "print(df.head())"
   ]
  },
  {
   "cell_type": "code",
   "execution_count": 11,
   "metadata": {},
   "outputs": [
    {
     "name": "stdout",
     "output_type": "stream",
     "text": [
      "<class 'pandas.core.frame.DataFrame'>\n",
      "RangeIndex: 1000 entries, 0 to 999\n",
      "Data columns (total 29 columns):\n",
      "OBS.                1000 non-null int64\n",
      "CHK_ACCT            1000 non-null int64\n",
      "DURATION            997 non-null float64\n",
      "HISTORY             1000 non-null int64\n",
      "CAR                 997 non-null object\n",
      "FURNITURE           1000 non-null int64\n",
      "RADIO.TV            1000 non-null int64\n",
      "EDUCATION           1000 non-null int64\n",
      "RETRAINING          1000 non-null int64\n",
      "AMOUNT              996 non-null float64\n",
      "SAV_ACCT            1000 non-null int64\n",
      "EMPLOYMENT          1000 non-null int64\n",
      "INSTALL_RATE        1000 non-null int64\n",
      "MaritalStatus       996 non-null object\n",
      "CO.APPLICANT        1000 non-null int64\n",
      "GUARANTOR           1000 non-null int64\n",
      "PRESENT_RESIDENT    1000 non-null int64\n",
      "REAL_ESTATE         1000 non-null int64\n",
      "PROP_UNKN_NONE      1000 non-null int64\n",
      "AGE                 998 non-null float64\n",
      "OTHER_INSTALL       1000 non-null int64\n",
      "RENT                1000 non-null int64\n",
      "OWN_RES             1000 non-null int64\n",
      "NUM_CREDITS         1000 non-null int64\n",
      "JOB                 1000 non-null int64\n",
      "NUM_DEPENDENTS      1000 non-null int64\n",
      "TELEPHONE           1000 non-null int64\n",
      "FOREIGN             1000 non-null int64\n",
      "DEFAULT             1000 non-null int64\n",
      "dtypes: float64(3), int64(24), object(2)\n",
      "memory usage: 226.6+ KB\n"
     ]
    }
   ],
   "source": [
    "# What type of values are stored in the columns?\n",
    "df.info()"
   ]
  },
  {
   "cell_type": "markdown",
   "metadata": {},
   "source": [
    "#### Subset the Categorical variables for analysis"
   ]
  },
  {
   "cell_type": "code",
   "execution_count": 13,
   "metadata": {},
   "outputs": [
    {
     "data": {
      "text/html": [
       "<div>\n",
       "<style scoped>\n",
       "    .dataframe tbody tr th:only-of-type {\n",
       "        vertical-align: middle;\n",
       "    }\n",
       "\n",
       "    .dataframe tbody tr th {\n",
       "        vertical-align: top;\n",
       "    }\n",
       "\n",
       "    .dataframe thead th {\n",
       "        text-align: right;\n",
       "    }\n",
       "</style>\n",
       "<table border=\"1\" class=\"dataframe\">\n",
       "  <thead>\n",
       "    <tr style=\"text-align: right;\">\n",
       "      <th></th>\n",
       "      <th>CAR</th>\n",
       "      <th>MaritalStatus</th>\n",
       "    </tr>\n",
       "  </thead>\n",
       "  <tbody>\n",
       "    <tr>\n",
       "      <th>0</th>\n",
       "      <td>UsedCar</td>\n",
       "      <td>Widower</td>\n",
       "    </tr>\n",
       "    <tr>\n",
       "      <th>1</th>\n",
       "      <td>UsedCar</td>\n",
       "      <td>Single</td>\n",
       "    </tr>\n",
       "    <tr>\n",
       "      <th>2</th>\n",
       "      <td>UsedCar</td>\n",
       "      <td>Single</td>\n",
       "    </tr>\n",
       "    <tr>\n",
       "      <th>3</th>\n",
       "      <td>UsedCar</td>\n",
       "      <td>Single</td>\n",
       "    </tr>\n",
       "    <tr>\n",
       "      <th>4</th>\n",
       "      <td>NewCar</td>\n",
       "      <td>Single</td>\n",
       "    </tr>\n",
       "    <tr>\n",
       "      <th>5</th>\n",
       "      <td>UsedCar</td>\n",
       "      <td>Single</td>\n",
       "    </tr>\n",
       "    <tr>\n",
       "      <th>6</th>\n",
       "      <td>UsedCar</td>\n",
       "      <td>Single</td>\n",
       "    </tr>\n",
       "    <tr>\n",
       "      <th>7</th>\n",
       "      <td>UsedCar</td>\n",
       "      <td>divorcee</td>\n",
       "    </tr>\n",
       "    <tr>\n",
       "      <th>8</th>\n",
       "      <td>NaN</td>\n",
       "      <td>divorcee</td>\n",
       "    </tr>\n",
       "    <tr>\n",
       "      <th>9</th>\n",
       "      <td>NewCar</td>\n",
       "      <td>divorcee</td>\n",
       "    </tr>\n",
       "  </tbody>\n",
       "</table>\n",
       "</div>"
      ],
      "text/plain": [
       "       CAR MaritalStatus\n",
       "0  UsedCar       Widower\n",
       "1  UsedCar        Single\n",
       "2  UsedCar        Single\n",
       "3  UsedCar        Single\n",
       "4   NewCar        Single\n",
       "5  UsedCar        Single\n",
       "6  UsedCar        Single\n",
       "7  UsedCar      divorcee\n",
       "8      NaN      divorcee\n",
       "9   NewCar      divorcee"
      ]
     },
     "execution_count": 13,
     "metadata": {},
     "output_type": "execute_result"
    }
   ],
   "source": [
    "obj_df = df.select_dtypes(include=['object']).copy()\n",
    "obj_df.head(10)"
   ]
  },
  {
   "cell_type": "markdown",
   "metadata": {},
   "source": [
    "### Missing Values detection"
   ]
  },
  {
   "cell_type": "markdown",
   "metadata": {},
   "source": [
    "#### Check for missing values in these (categorical) variables"
   ]
  },
  {
   "cell_type": "code",
   "execution_count": 14,
   "metadata": {},
   "outputs": [
    {
     "data": {
      "text/html": [
       "<div>\n",
       "<style scoped>\n",
       "    .dataframe tbody tr th:only-of-type {\n",
       "        vertical-align: middle;\n",
       "    }\n",
       "\n",
       "    .dataframe tbody tr th {\n",
       "        vertical-align: top;\n",
       "    }\n",
       "\n",
       "    .dataframe thead th {\n",
       "        text-align: right;\n",
       "    }\n",
       "</style>\n",
       "<table border=\"1\" class=\"dataframe\">\n",
       "  <thead>\n",
       "    <tr style=\"text-align: right;\">\n",
       "      <th></th>\n",
       "      <th>CAR</th>\n",
       "      <th>MaritalStatus</th>\n",
       "    </tr>\n",
       "  </thead>\n",
       "  <tbody>\n",
       "    <tr>\n",
       "      <th>8</th>\n",
       "      <td>NaN</td>\n",
       "      <td>divorcee</td>\n",
       "    </tr>\n",
       "    <tr>\n",
       "      <th>100</th>\n",
       "      <td>NaN</td>\n",
       "      <td>Single</td>\n",
       "    </tr>\n",
       "    <tr>\n",
       "      <th>227</th>\n",
       "      <td>UsedCar</td>\n",
       "      <td>NaN</td>\n",
       "    </tr>\n",
       "    <tr>\n",
       "      <th>236</th>\n",
       "      <td>NaN</td>\n",
       "      <td>NaN</td>\n",
       "    </tr>\n",
       "    <tr>\n",
       "      <th>257</th>\n",
       "      <td>UsedCar</td>\n",
       "      <td>NaN</td>\n",
       "    </tr>\n",
       "    <tr>\n",
       "      <th>296</th>\n",
       "      <td>UsedCar</td>\n",
       "      <td>NaN</td>\n",
       "    </tr>\n",
       "  </tbody>\n",
       "</table>\n",
       "</div>"
      ],
      "text/plain": [
       "         CAR MaritalStatus\n",
       "8        NaN      divorcee\n",
       "100      NaN        Single\n",
       "227  UsedCar           NaN\n",
       "236      NaN           NaN\n",
       "257  UsedCar           NaN\n",
       "296  UsedCar           NaN"
      ]
     },
     "execution_count": 14,
     "metadata": {},
     "output_type": "execute_result"
    }
   ],
   "source": [
    "obj_df[obj_df.isnull().any(axis=1)]"
   ]
  },
  {
   "cell_type": "markdown",
   "metadata": {},
   "source": [
    "#### Few Missing Values found "
   ]
  },
  {
   "cell_type": "markdown",
   "metadata": {},
   "source": [
    "#### For simplicity lets impute these variables by Mode"
   ]
  },
  {
   "cell_type": "code",
   "execution_count": 15,
   "metadata": {},
   "outputs": [
    {
     "name": "stdout",
     "output_type": "stream",
     "text": [
      "CAR\n",
      "NewCar     232\n",
      "UsedCar    765\n",
      "dtype: int64\n"
     ]
    }
   ],
   "source": [
    "print(df.groupby(['CAR']).size())"
   ]
  },
  {
   "cell_type": "code",
   "execution_count": 16,
   "metadata": {},
   "outputs": [
    {
     "data": {
      "text/plain": [
       "UsedCar    765\n",
       "NewCar     232\n",
       "Name: CAR, dtype: int64"
      ]
     },
     "execution_count": 16,
     "metadata": {},
     "output_type": "execute_result"
    }
   ],
   "source": [
    "obj_df[\"CAR\"].value_counts()"
   ]
  },
  {
   "cell_type": "code",
   "execution_count": 17,
   "metadata": {},
   "outputs": [],
   "source": [
    "obj_df = obj_df.fillna({\"CAR\": \"UsedCar\"})"
   ]
  },
  {
   "cell_type": "code",
   "execution_count": 18,
   "metadata": {},
   "outputs": [
    {
     "data": {
      "text/html": [
       "<div>\n",
       "<style scoped>\n",
       "    .dataframe tbody tr th:only-of-type {\n",
       "        vertical-align: middle;\n",
       "    }\n",
       "\n",
       "    .dataframe tbody tr th {\n",
       "        vertical-align: top;\n",
       "    }\n",
       "\n",
       "    .dataframe thead th {\n",
       "        text-align: right;\n",
       "    }\n",
       "</style>\n",
       "<table border=\"1\" class=\"dataframe\">\n",
       "  <thead>\n",
       "    <tr style=\"text-align: right;\">\n",
       "      <th></th>\n",
       "      <th>CAR</th>\n",
       "      <th>MaritalStatus</th>\n",
       "    </tr>\n",
       "  </thead>\n",
       "  <tbody>\n",
       "    <tr>\n",
       "      <th>227</th>\n",
       "      <td>UsedCar</td>\n",
       "      <td>NaN</td>\n",
       "    </tr>\n",
       "    <tr>\n",
       "      <th>236</th>\n",
       "      <td>UsedCar</td>\n",
       "      <td>NaN</td>\n",
       "    </tr>\n",
       "    <tr>\n",
       "      <th>257</th>\n",
       "      <td>UsedCar</td>\n",
       "      <td>NaN</td>\n",
       "    </tr>\n",
       "    <tr>\n",
       "      <th>296</th>\n",
       "      <td>UsedCar</td>\n",
       "      <td>NaN</td>\n",
       "    </tr>\n",
       "  </tbody>\n",
       "</table>\n",
       "</div>"
      ],
      "text/plain": [
       "         CAR MaritalStatus\n",
       "227  UsedCar           NaN\n",
       "236  UsedCar           NaN\n",
       "257  UsedCar           NaN\n",
       "296  UsedCar           NaN"
      ]
     },
     "execution_count": 18,
     "metadata": {},
     "output_type": "execute_result"
    }
   ],
   "source": [
    "obj_df[obj_df.isnull().any(axis=1)]"
   ]
  },
  {
   "cell_type": "code",
   "execution_count": 19,
   "metadata": {},
   "outputs": [
    {
     "name": "stdout",
     "output_type": "stream",
     "text": [
      "MaritalStatus\n",
      "Married      30\n",
      "Single      506\n",
      "Widower     343\n",
      "divorcee    117\n",
      "dtype: int64\n"
     ]
    }
   ],
   "source": [
    "print(df.groupby(['MaritalStatus']).size())"
   ]
  },
  {
   "cell_type": "code",
   "execution_count": 20,
   "metadata": {},
   "outputs": [],
   "source": [
    "obj_df = obj_df.fillna({\"MaritalStatus\": \"Single\"})"
   ]
  },
  {
   "cell_type": "code",
   "execution_count": 21,
   "metadata": {},
   "outputs": [
    {
     "data": {
      "text/html": [
       "<div>\n",
       "<style scoped>\n",
       "    .dataframe tbody tr th:only-of-type {\n",
       "        vertical-align: middle;\n",
       "    }\n",
       "\n",
       "    .dataframe tbody tr th {\n",
       "        vertical-align: top;\n",
       "    }\n",
       "\n",
       "    .dataframe thead th {\n",
       "        text-align: right;\n",
       "    }\n",
       "</style>\n",
       "<table border=\"1\" class=\"dataframe\">\n",
       "  <thead>\n",
       "    <tr style=\"text-align: right;\">\n",
       "      <th></th>\n",
       "      <th>CAR</th>\n",
       "      <th>MaritalStatus</th>\n",
       "    </tr>\n",
       "  </thead>\n",
       "  <tbody>\n",
       "  </tbody>\n",
       "</table>\n",
       "</div>"
      ],
      "text/plain": [
       "Empty DataFrame\n",
       "Columns: [CAR, MaritalStatus]\n",
       "Index: []"
      ]
     },
     "execution_count": 21,
     "metadata": {},
     "output_type": "execute_result"
    }
   ],
   "source": [
    "obj_df[obj_df.isnull().any(axis=1)]"
   ]
  },
  {
   "cell_type": "markdown",
   "metadata": {},
   "source": [
    "#### Missing values imputed by Mode"
   ]
  },
  {
   "cell_type": "markdown",
   "metadata": {},
   "source": [
    "#### Check for missing values in dataframe"
   ]
  },
  {
   "cell_type": "code",
   "execution_count": 22,
   "metadata": {},
   "outputs": [
    {
     "name": "stdout",
     "output_type": "stream",
     "text": [
      "OBS.                0\n",
      "CHK_ACCT            0\n",
      "DURATION            3\n",
      "HISTORY             0\n",
      "CAR                 3\n",
      "FURNITURE           0\n",
      "RADIO.TV            0\n",
      "EDUCATION           0\n",
      "RETRAINING          0\n",
      "AMOUNT              4\n",
      "SAV_ACCT            0\n",
      "EMPLOYMENT          0\n",
      "INSTALL_RATE        0\n",
      "MaritalStatus       4\n",
      "CO.APPLICANT        0\n",
      "GUARANTOR           0\n",
      "PRESENT_RESIDENT    0\n",
      "REAL_ESTATE         0\n",
      "PROP_UNKN_NONE      0\n",
      "AGE                 2\n",
      "OTHER_INSTALL       0\n",
      "RENT                0\n",
      "OWN_RES             0\n",
      "NUM_CREDITS         0\n",
      "JOB                 0\n",
      "NUM_DEPENDENTS      0\n",
      "TELEPHONE           0\n",
      "FOREIGN             0\n",
      "DEFAULT             0\n",
      "dtype: int64\n"
     ]
    }
   ],
   "source": [
    "print(df.isnull().sum())"
   ]
  },
  {
   "cell_type": "markdown",
   "metadata": {},
   "source": [
    "#### Remove Rows With Missing Values"
   ]
  },
  {
   "cell_type": "code",
   "execution_count": 23,
   "metadata": {},
   "outputs": [],
   "source": [
    "df_imputed = df.dropna()"
   ]
  },
  {
   "cell_type": "code",
   "execution_count": 24,
   "metadata": {},
   "outputs": [
    {
     "name": "stdout",
     "output_type": "stream",
     "text": [
      "OBS.                0\n",
      "CHK_ACCT            0\n",
      "DURATION            0\n",
      "HISTORY             0\n",
      "CAR                 0\n",
      "FURNITURE           0\n",
      "RADIO.TV            0\n",
      "EDUCATION           0\n",
      "RETRAINING          0\n",
      "AMOUNT              0\n",
      "SAV_ACCT            0\n",
      "EMPLOYMENT          0\n",
      "INSTALL_RATE        0\n",
      "MaritalStatus       0\n",
      "CO.APPLICANT        0\n",
      "GUARANTOR           0\n",
      "PRESENT_RESIDENT    0\n",
      "REAL_ESTATE         0\n",
      "PROP_UNKN_NONE      0\n",
      "AGE                 0\n",
      "OTHER_INSTALL       0\n",
      "RENT                0\n",
      "OWN_RES             0\n",
      "NUM_CREDITS         0\n",
      "JOB                 0\n",
      "NUM_DEPENDENTS      0\n",
      "TELEPHONE           0\n",
      "FOREIGN             0\n",
      "DEFAULT             0\n",
      "dtype: int64\n"
     ]
    }
   ],
   "source": [
    "print(df_imputed.isnull().sum())"
   ]
  },
  {
   "cell_type": "code",
   "execution_count": 25,
   "metadata": {},
   "outputs": [],
   "source": [
    "# This will remove the rows with Missing value in existing data frame\n",
    "# df.dropna(inplace=True)"
   ]
  },
  {
   "cell_type": "markdown",
   "metadata": {},
   "source": [
    "#### subset numerical variables"
   ]
  },
  {
   "cell_type": "code",
   "execution_count": 26,
   "metadata": {},
   "outputs": [],
   "source": [
    "df_num = df.select_dtypes(include=['float64'])"
   ]
  },
  {
   "cell_type": "code",
   "execution_count": 27,
   "metadata": {},
   "outputs": [
    {
     "name": "stdout",
     "output_type": "stream",
     "text": [
      "   DURATION  AMOUNT   AGE\n",
      "0       6.0  1169.0  67.0\n",
      "1      48.0  5951.0  22.0\n",
      "2      12.0  2096.0  49.0\n",
      "3      42.0  7882.0  45.0\n",
      "4      24.0  4870.0  53.0\n"
     ]
    }
   ],
   "source": [
    "print(df_num.head())"
   ]
  },
  {
   "cell_type": "code",
   "execution_count": 28,
   "metadata": {},
   "outputs": [
    {
     "name": "stdout",
     "output_type": "stream",
     "text": [
      "DURATION    3\n",
      "AMOUNT      4\n",
      "AGE         2\n",
      "dtype: int64\n"
     ]
    }
   ],
   "source": [
    "# Check for number of missing value\n",
    "print(df_num.isnull().sum())"
   ]
  },
  {
   "cell_type": "markdown",
   "metadata": {},
   "source": [
    "#### Impute missing values with mean values"
   ]
  },
  {
   "cell_type": "code",
   "execution_count": 29,
   "metadata": {},
   "outputs": [],
   "source": [
    "df_num_mean = df_num.fillna(df_num.mean())\n",
    "\n",
    "# this will update the existing data frame\n",
    "# df.fillna(df.mean(), inplace=True)"
   ]
  },
  {
   "cell_type": "code",
   "execution_count": 30,
   "metadata": {},
   "outputs": [
    {
     "name": "stdout",
     "output_type": "stream",
     "text": [
      "DURATION    0\n",
      "AMOUNT      0\n",
      "AGE         0\n",
      "dtype: int64\n"
     ]
    }
   ],
   "source": [
    "# Check for number of missing value\n",
    "print(df_num_mean.isnull().sum())\n"
   ]
  },
  {
   "cell_type": "markdown",
   "metadata": {},
   "source": [
    "#### Impute missing values with median values\n"
   ]
  },
  {
   "cell_type": "code",
   "execution_count": 31,
   "metadata": {},
   "outputs": [],
   "source": [
    "df_num_median = df_num.fillna(df_num.median())\n",
    "\n",
    "# this will update the existing data frame\n",
    "# df.fillna(df.median(), inplace=True)"
   ]
  },
  {
   "cell_type": "code",
   "execution_count": 32,
   "metadata": {},
   "outputs": [
    {
     "name": "stdout",
     "output_type": "stream",
     "text": [
      "DURATION    0\n",
      "AMOUNT      0\n",
      "AGE         0\n",
      "dtype: int64\n"
     ]
    }
   ],
   "source": [
    "# Check for number of missing value\n",
    "print(df_num_median.isnull().sum())"
   ]
  },
  {
   "cell_type": "code",
   "execution_count": 33,
   "metadata": {},
   "outputs": [
    {
     "name": "stdout",
     "output_type": "stream",
     "text": [
      "   DURATION  AMOUNT   AGE\n",
      "0       6.0  1169.0  67.0\n",
      "1      48.0  5951.0  22.0\n",
      "2      12.0  2096.0  49.0\n",
      "3      42.0  7882.0  45.0\n",
      "4      24.0  4870.0  53.0\n",
      "   DURATION  AMOUNT   AGE\n",
      "0       6.0  1169.0  67.0\n",
      "1      48.0  5951.0  22.0\n",
      "2      12.0  2096.0  49.0\n",
      "3      42.0  7882.0  45.0\n",
      "4      24.0  4870.0  53.0\n"
     ]
    }
   ],
   "source": [
    "# make a copy of  numeric data frame \n",
    "df_num_cp1 = df_num.copy()\n",
    "df_num_cp2 = df_num.copy()\n",
    "print(df_num_cp1.head())\n",
    "print(df_num_cp2.head())"
   ]
  },
  {
   "cell_type": "markdown",
   "metadata": {},
   "source": [
    "#### Impute missing values with ZERO "
   ]
  },
  {
   "cell_type": "code",
   "execution_count": 34,
   "metadata": {},
   "outputs": [
    {
     "data": {
      "text/html": [
       "<div>\n",
       "<style scoped>\n",
       "    .dataframe tbody tr th:only-of-type {\n",
       "        vertical-align: middle;\n",
       "    }\n",
       "\n",
       "    .dataframe tbody tr th {\n",
       "        vertical-align: top;\n",
       "    }\n",
       "\n",
       "    .dataframe thead th {\n",
       "        text-align: right;\n",
       "    }\n",
       "</style>\n",
       "<table border=\"1\" class=\"dataframe\">\n",
       "  <thead>\n",
       "    <tr style=\"text-align: right;\">\n",
       "      <th></th>\n",
       "      <th>DURATION</th>\n",
       "      <th>AMOUNT</th>\n",
       "      <th>AGE</th>\n",
       "    </tr>\n",
       "  </thead>\n",
       "  <tbody>\n",
       "    <tr>\n",
       "      <th>0</th>\n",
       "      <td>6.0</td>\n",
       "      <td>1169.0</td>\n",
       "      <td>67.0</td>\n",
       "    </tr>\n",
       "    <tr>\n",
       "      <th>1</th>\n",
       "      <td>48.0</td>\n",
       "      <td>5951.0</td>\n",
       "      <td>22.0</td>\n",
       "    </tr>\n",
       "    <tr>\n",
       "      <th>2</th>\n",
       "      <td>12.0</td>\n",
       "      <td>2096.0</td>\n",
       "      <td>49.0</td>\n",
       "    </tr>\n",
       "    <tr>\n",
       "      <th>3</th>\n",
       "      <td>42.0</td>\n",
       "      <td>7882.0</td>\n",
       "      <td>45.0</td>\n",
       "    </tr>\n",
       "    <tr>\n",
       "      <th>4</th>\n",
       "      <td>24.0</td>\n",
       "      <td>4870.0</td>\n",
       "      <td>53.0</td>\n",
       "    </tr>\n",
       "  </tbody>\n",
       "</table>\n",
       "</div>"
      ],
      "text/plain": [
       "   DURATION  AMOUNT   AGE\n",
       "0       6.0  1169.0  67.0\n",
       "1      48.0  5951.0  22.0\n",
       "2      12.0  2096.0  49.0\n",
       "3      42.0  7882.0  45.0\n",
       "4      24.0  4870.0  53.0"
      ]
     },
     "execution_count": 34,
     "metadata": {},
     "output_type": "execute_result"
    }
   ],
   "source": [
    "df_num_cp1.fillna(0).head()"
   ]
  },
  {
   "cell_type": "markdown",
   "metadata": {},
   "source": [
    "#### Impute missing values by Fill gaps forward"
   ]
  },
  {
   "cell_type": "code",
   "execution_count": 35,
   "metadata": {},
   "outputs": [
    {
     "data": {
      "text/html": [
       "<div>\n",
       "<style scoped>\n",
       "    .dataframe tbody tr th:only-of-type {\n",
       "        vertical-align: middle;\n",
       "    }\n",
       "\n",
       "    .dataframe tbody tr th {\n",
       "        vertical-align: top;\n",
       "    }\n",
       "\n",
       "    .dataframe thead th {\n",
       "        text-align: right;\n",
       "    }\n",
       "</style>\n",
       "<table border=\"1\" class=\"dataframe\">\n",
       "  <thead>\n",
       "    <tr style=\"text-align: right;\">\n",
       "      <th></th>\n",
       "      <th>DURATION</th>\n",
       "      <th>AMOUNT</th>\n",
       "      <th>AGE</th>\n",
       "    </tr>\n",
       "  </thead>\n",
       "  <tbody>\n",
       "    <tr>\n",
       "      <th>0</th>\n",
       "      <td>6.0</td>\n",
       "      <td>1169.0</td>\n",
       "      <td>67.0</td>\n",
       "    </tr>\n",
       "    <tr>\n",
       "      <th>1</th>\n",
       "      <td>48.0</td>\n",
       "      <td>5951.0</td>\n",
       "      <td>22.0</td>\n",
       "    </tr>\n",
       "    <tr>\n",
       "      <th>2</th>\n",
       "      <td>12.0</td>\n",
       "      <td>2096.0</td>\n",
       "      <td>49.0</td>\n",
       "    </tr>\n",
       "    <tr>\n",
       "      <th>3</th>\n",
       "      <td>42.0</td>\n",
       "      <td>7882.0</td>\n",
       "      <td>45.0</td>\n",
       "    </tr>\n",
       "    <tr>\n",
       "      <th>4</th>\n",
       "      <td>24.0</td>\n",
       "      <td>4870.0</td>\n",
       "      <td>53.0</td>\n",
       "    </tr>\n",
       "  </tbody>\n",
       "</table>\n",
       "</div>"
      ],
      "text/plain": [
       "   DURATION  AMOUNT   AGE\n",
       "0       6.0  1169.0  67.0\n",
       "1      48.0  5951.0  22.0\n",
       "2      12.0  2096.0  49.0\n",
       "3      42.0  7882.0  45.0\n",
       "4      24.0  4870.0  53.0"
      ]
     },
     "execution_count": 35,
     "metadata": {},
     "output_type": "execute_result"
    }
   ],
   "source": [
    "df_num_cp2.fillna(method='pad').head()"
   ]
  },
  {
   "cell_type": "markdown",
   "metadata": {},
   "source": [
    "#### Impute Missing value by imputer"
   ]
  },
  {
   "cell_type": "code",
   "execution_count": 36,
   "metadata": {},
   "outputs": [
    {
     "name": "stdout",
     "output_type": "stream",
     "text": [
      "0\n"
     ]
    }
   ],
   "source": [
    "from sklearn.preprocessing import Imputer\n",
    "imputer = Imputer()\n",
    "transformed_values = imputer.fit_transform(df_num)\n",
    "# count the number of NaN values in each column\n",
    "print(np.isnan(transformed_values).sum())\n"
   ]
  },
  {
   "cell_type": "code",
   "execution_count": 37,
   "metadata": {},
   "outputs": [],
   "source": [
    "# this will update the existing data frame\n",
    "df.fillna(df.mean(), inplace=True)"
   ]
  },
  {
   "cell_type": "markdown",
   "metadata": {},
   "source": [
    "### Working with categorical varibles"
   ]
  },
  {
   "cell_type": "code",
   "execution_count": 38,
   "metadata": {},
   "outputs": [],
   "source": [
    "# Convert variable(s) to category\n",
    "df[[\"CAR\", \"MaritalStatus\"]] = df[[\"CAR\", \"MaritalStatus\"]].astype('category')"
   ]
  },
  {
   "cell_type": "code",
   "execution_count": 49,
   "metadata": {},
   "outputs": [
    {
     "name": "stdout",
     "output_type": "stream",
     "text": [
      "<class 'pandas.core.frame.DataFrame'>\n",
      "RangeIndex: 1000 entries, 0 to 999\n",
      "Data columns (total 30 columns):\n",
      "OBS.                1000 non-null int64\n",
      "CHK_ACCT            1000 non-null int64\n",
      "DURATION            1000 non-null float64\n",
      "HISTORY             1000 non-null int64\n",
      "CAR                 997 non-null category\n",
      "FURNITURE           1000 non-null int64\n",
      "RADIO.TV            1000 non-null int64\n",
      "EDUCATION           1000 non-null int64\n",
      "RETRAINING          1000 non-null int64\n",
      "AMOUNT              1000 non-null float64\n",
      "SAV_ACCT            1000 non-null int64\n",
      "EMPLOYMENT          1000 non-null int64\n",
      "INSTALL_RATE        1000 non-null int64\n",
      "MaritalStatus       996 non-null category\n",
      "CO.APPLICANT        1000 non-null int64\n",
      "GUARANTOR           1000 non-null int64\n",
      "PRESENT_RESIDENT    1000 non-null int64\n",
      "REAL_ESTATE         1000 non-null int64\n",
      "PROP_UNKN_NONE      1000 non-null int64\n",
      "AGE                 1000 non-null float64\n",
      "OTHER_INSTALL       1000 non-null int64\n",
      "RENT                1000 non-null int64\n",
      "OWN_RES             1000 non-null int64\n",
      "NUM_CREDITS         1000 non-null int64\n",
      "JOB                 1000 non-null int64\n",
      "NUM_DEPENDENTS      1000 non-null int64\n",
      "TELEPHONE           1000 non-null int64\n",
      "FOREIGN             1000 non-null int64\n",
      "DEFAULT             1000 non-null int64\n",
      "CAR_cat             1000 non-null int8\n",
      "dtypes: category(2), float64(3), int64(24), int8(1)\n",
      "memory usage: 214.2 KB\n"
     ]
    }
   ],
   "source": [
    "# What type of values are stored in the columns?\n",
    "df.info()"
   ]
  },
  {
   "cell_type": "markdown",
   "metadata": {},
   "source": [
    "### Label Encoding"
   ]
  },
  {
   "cell_type": "markdown",
   "metadata": {},
   "source": [
    "#### Label Encoding : pandas"
   ]
  },
  {
   "cell_type": "code",
   "execution_count": 50,
   "metadata": {},
   "outputs": [],
   "source": [
    "df[\"CAR_cat\"] = df[\"CAR\"].cat.codes"
   ]
  },
  {
   "cell_type": "code",
   "execution_count": 51,
   "metadata": {},
   "outputs": [
    {
     "name": "stdout",
     "output_type": "stream",
     "text": [
      "       CAR  CAR_cat\n",
      "0  UsedCar        1\n",
      "1  UsedCar        1\n",
      "2  UsedCar        1\n",
      "3  UsedCar        1\n",
      "4   NewCar        0\n"
     ]
    }
   ],
   "source": [
    "print(df[[\"CAR\",\"CAR_cat\"]].head())"
   ]
  },
  {
   "cell_type": "code",
   "execution_count": 52,
   "metadata": {},
   "outputs": [
    {
     "name": "stdout",
     "output_type": "stream",
     "text": [
      "<class 'pandas.core.frame.DataFrame'>\n",
      "RangeIndex: 1000 entries, 0 to 999\n",
      "Data columns (total 3 columns):\n",
      "CAR              1000 non-null object\n",
      "MaritalStatus    1000 non-null object\n",
      "CAR_Lcode        1000 non-null int64\n",
      "dtypes: int64(1), object(2)\n",
      "memory usage: 23.5+ KB\n"
     ]
    }
   ],
   "source": [
    "obj_df.info()"
   ]
  },
  {
   "cell_type": "markdown",
   "metadata": {},
   "source": [
    "#### Label Encoding : sklearn"
   ]
  },
  {
   "cell_type": "code",
   "execution_count": 53,
   "metadata": {},
   "outputs": [],
   "source": [
    "from sklearn.preprocessing import LabelEncoder\n",
    "\n",
    "lbl_encod = LabelEncoder()\n",
    "obj_df[\"CAR_Lcode\"] = lbl_encod.fit_transform(obj_df[\"CAR\"])\n"
   ]
  },
  {
   "cell_type": "code",
   "execution_count": 54,
   "metadata": {},
   "outputs": [
    {
     "data": {
      "text/html": [
       "<div>\n",
       "<style scoped>\n",
       "    .dataframe tbody tr th:only-of-type {\n",
       "        vertical-align: middle;\n",
       "    }\n",
       "\n",
       "    .dataframe tbody tr th {\n",
       "        vertical-align: top;\n",
       "    }\n",
       "\n",
       "    .dataframe thead th {\n",
       "        text-align: right;\n",
       "    }\n",
       "</style>\n",
       "<table border=\"1\" class=\"dataframe\">\n",
       "  <thead>\n",
       "    <tr style=\"text-align: right;\">\n",
       "      <th></th>\n",
       "      <th>CAR</th>\n",
       "      <th>CAR_Lcode</th>\n",
       "    </tr>\n",
       "  </thead>\n",
       "  <tbody>\n",
       "    <tr>\n",
       "      <th>0</th>\n",
       "      <td>UsedCar</td>\n",
       "      <td>1</td>\n",
       "    </tr>\n",
       "    <tr>\n",
       "      <th>1</th>\n",
       "      <td>UsedCar</td>\n",
       "      <td>1</td>\n",
       "    </tr>\n",
       "    <tr>\n",
       "      <th>2</th>\n",
       "      <td>UsedCar</td>\n",
       "      <td>1</td>\n",
       "    </tr>\n",
       "    <tr>\n",
       "      <th>3</th>\n",
       "      <td>UsedCar</td>\n",
       "      <td>1</td>\n",
       "    </tr>\n",
       "    <tr>\n",
       "      <th>4</th>\n",
       "      <td>NewCar</td>\n",
       "      <td>0</td>\n",
       "    </tr>\n",
       "    <tr>\n",
       "      <th>5</th>\n",
       "      <td>UsedCar</td>\n",
       "      <td>1</td>\n",
       "    </tr>\n",
       "    <tr>\n",
       "      <th>6</th>\n",
       "      <td>UsedCar</td>\n",
       "      <td>1</td>\n",
       "    </tr>\n",
       "    <tr>\n",
       "      <th>7</th>\n",
       "      <td>UsedCar</td>\n",
       "      <td>1</td>\n",
       "    </tr>\n",
       "    <tr>\n",
       "      <th>8</th>\n",
       "      <td>UsedCar</td>\n",
       "      <td>1</td>\n",
       "    </tr>\n",
       "    <tr>\n",
       "      <th>9</th>\n",
       "      <td>NewCar</td>\n",
       "      <td>0</td>\n",
       "    </tr>\n",
       "    <tr>\n",
       "      <th>10</th>\n",
       "      <td>NewCar</td>\n",
       "      <td>0</td>\n",
       "    </tr>\n",
       "  </tbody>\n",
       "</table>\n",
       "</div>"
      ],
      "text/plain": [
       "        CAR  CAR_Lcode\n",
       "0   UsedCar          1\n",
       "1   UsedCar          1\n",
       "2   UsedCar          1\n",
       "3   UsedCar          1\n",
       "4    NewCar          0\n",
       "5   UsedCar          1\n",
       "6   UsedCar          1\n",
       "7   UsedCar          1\n",
       "8   UsedCar          1\n",
       "9    NewCar          0\n",
       "10   NewCar          0"
      ]
     },
     "execution_count": 54,
     "metadata": {},
     "output_type": "execute_result"
    }
   ],
   "source": [
    "obj_df[[\"CAR\", \"CAR_Lcode\"]].head(11)"
   ]
  },
  {
   "cell_type": "markdown",
   "metadata": {},
   "source": [
    "#### Onehot Encoding"
   ]
  },
  {
   "cell_type": "code",
   "execution_count": 55,
   "metadata": {},
   "outputs": [
    {
     "data": {
      "text/html": [
       "<div>\n",
       "<style scoped>\n",
       "    .dataframe tbody tr th:only-of-type {\n",
       "        vertical-align: middle;\n",
       "    }\n",
       "\n",
       "    .dataframe tbody tr th {\n",
       "        vertical-align: top;\n",
       "    }\n",
       "\n",
       "    .dataframe thead th {\n",
       "        text-align: right;\n",
       "    }\n",
       "</style>\n",
       "<table border=\"1\" class=\"dataframe\">\n",
       "  <thead>\n",
       "    <tr style=\"text-align: right;\">\n",
       "      <th></th>\n",
       "      <th>CAR_NewCar</th>\n",
       "      <th>CAR_UsedCar</th>\n",
       "      <th>MaritalStatus_Married</th>\n",
       "      <th>MaritalStatus_Single</th>\n",
       "      <th>MaritalStatus_Widower</th>\n",
       "      <th>MaritalStatus_divorcee</th>\n",
       "    </tr>\n",
       "  </thead>\n",
       "  <tbody>\n",
       "    <tr>\n",
       "      <th>0</th>\n",
       "      <td>0</td>\n",
       "      <td>1</td>\n",
       "      <td>0</td>\n",
       "      <td>0</td>\n",
       "      <td>1</td>\n",
       "      <td>0</td>\n",
       "    </tr>\n",
       "    <tr>\n",
       "      <th>1</th>\n",
       "      <td>0</td>\n",
       "      <td>1</td>\n",
       "      <td>0</td>\n",
       "      <td>1</td>\n",
       "      <td>0</td>\n",
       "      <td>0</td>\n",
       "    </tr>\n",
       "    <tr>\n",
       "      <th>2</th>\n",
       "      <td>0</td>\n",
       "      <td>1</td>\n",
       "      <td>0</td>\n",
       "      <td>1</td>\n",
       "      <td>0</td>\n",
       "      <td>0</td>\n",
       "    </tr>\n",
       "    <tr>\n",
       "      <th>3</th>\n",
       "      <td>0</td>\n",
       "      <td>1</td>\n",
       "      <td>0</td>\n",
       "      <td>1</td>\n",
       "      <td>0</td>\n",
       "      <td>0</td>\n",
       "    </tr>\n",
       "    <tr>\n",
       "      <th>4</th>\n",
       "      <td>1</td>\n",
       "      <td>0</td>\n",
       "      <td>0</td>\n",
       "      <td>1</td>\n",
       "      <td>0</td>\n",
       "      <td>0</td>\n",
       "    </tr>\n",
       "  </tbody>\n",
       "</table>\n",
       "</div>"
      ],
      "text/plain": [
       "   CAR_NewCar  CAR_UsedCar  MaritalStatus_Married  MaritalStatus_Single  \\\n",
       "0           0            1                      0                     0   \n",
       "1           0            1                      0                     1   \n",
       "2           0            1                      0                     1   \n",
       "3           0            1                      0                     1   \n",
       "4           1            0                      0                     1   \n",
       "\n",
       "   MaritalStatus_Widower  MaritalStatus_divorcee  \n",
       "0                      1                       0  \n",
       "1                      0                       0  \n",
       "2                      0                       0  \n",
       "3                      0                       0  \n",
       "4                      0                       0  "
      ]
     },
     "execution_count": 55,
     "metadata": {},
     "output_type": "execute_result"
    }
   ],
   "source": [
    "df_dummies = pd.get_dummies(df[['CAR', 'MaritalStatus']])\n",
    "df_dummies.head()"
   ]
  },
  {
   "cell_type": "markdown",
   "metadata": {},
   "source": [
    "#### Combine Numerical and Dummy variables"
   ]
  },
  {
   "cell_type": "code",
   "execution_count": 56,
   "metadata": {},
   "outputs": [
    {
     "data": {
      "text/html": [
       "<div>\n",
       "<style scoped>\n",
       "    .dataframe tbody tr th:only-of-type {\n",
       "        vertical-align: middle;\n",
       "    }\n",
       "\n",
       "    .dataframe tbody tr th {\n",
       "        vertical-align: top;\n",
       "    }\n",
       "\n",
       "    .dataframe thead th {\n",
       "        text-align: right;\n",
       "    }\n",
       "</style>\n",
       "<table border=\"1\" class=\"dataframe\">\n",
       "  <thead>\n",
       "    <tr style=\"text-align: right;\">\n",
       "      <th></th>\n",
       "      <th>DURATION</th>\n",
       "      <th>AMOUNT</th>\n",
       "      <th>AGE</th>\n",
       "      <th>CAR_NewCar</th>\n",
       "      <th>CAR_UsedCar</th>\n",
       "      <th>MaritalStatus_Married</th>\n",
       "      <th>MaritalStatus_Single</th>\n",
       "      <th>MaritalStatus_Widower</th>\n",
       "      <th>MaritalStatus_divorcee</th>\n",
       "    </tr>\n",
       "  </thead>\n",
       "  <tbody>\n",
       "    <tr>\n",
       "      <th>0</th>\n",
       "      <td>6.0</td>\n",
       "      <td>1169.0</td>\n",
       "      <td>67.0</td>\n",
       "      <td>0</td>\n",
       "      <td>1</td>\n",
       "      <td>0</td>\n",
       "      <td>0</td>\n",
       "      <td>1</td>\n",
       "      <td>0</td>\n",
       "    </tr>\n",
       "    <tr>\n",
       "      <th>1</th>\n",
       "      <td>48.0</td>\n",
       "      <td>5951.0</td>\n",
       "      <td>22.0</td>\n",
       "      <td>0</td>\n",
       "      <td>1</td>\n",
       "      <td>0</td>\n",
       "      <td>1</td>\n",
       "      <td>0</td>\n",
       "      <td>0</td>\n",
       "    </tr>\n",
       "    <tr>\n",
       "      <th>2</th>\n",
       "      <td>12.0</td>\n",
       "      <td>2096.0</td>\n",
       "      <td>49.0</td>\n",
       "      <td>0</td>\n",
       "      <td>1</td>\n",
       "      <td>0</td>\n",
       "      <td>1</td>\n",
       "      <td>0</td>\n",
       "      <td>0</td>\n",
       "    </tr>\n",
       "    <tr>\n",
       "      <th>3</th>\n",
       "      <td>42.0</td>\n",
       "      <td>7882.0</td>\n",
       "      <td>45.0</td>\n",
       "      <td>0</td>\n",
       "      <td>1</td>\n",
       "      <td>0</td>\n",
       "      <td>1</td>\n",
       "      <td>0</td>\n",
       "      <td>0</td>\n",
       "    </tr>\n",
       "    <tr>\n",
       "      <th>4</th>\n",
       "      <td>24.0</td>\n",
       "      <td>4870.0</td>\n",
       "      <td>53.0</td>\n",
       "      <td>1</td>\n",
       "      <td>0</td>\n",
       "      <td>0</td>\n",
       "      <td>1</td>\n",
       "      <td>0</td>\n",
       "      <td>0</td>\n",
       "    </tr>\n",
       "  </tbody>\n",
       "</table>\n",
       "</div>"
      ],
      "text/plain": [
       "   DURATION  AMOUNT   AGE  CAR_NewCar  CAR_UsedCar  MaritalStatus_Married  \\\n",
       "0       6.0  1169.0  67.0           0            1                      0   \n",
       "1      48.0  5951.0  22.0           0            1                      0   \n",
       "2      12.0  2096.0  49.0           0            1                      0   \n",
       "3      42.0  7882.0  45.0           0            1                      0   \n",
       "4      24.0  4870.0  53.0           1            0                      0   \n",
       "\n",
       "   MaritalStatus_Single  MaritalStatus_Widower  MaritalStatus_divorcee  \n",
       "0                     0                      1                       0  \n",
       "1                     1                      0                       0  \n",
       "2                     1                      0                       0  \n",
       "3                     1                      0                       0  \n",
       "4                     1                      0                       0  "
      ]
     },
     "execution_count": 56,
     "metadata": {},
     "output_type": "execute_result"
    }
   ],
   "source": [
    "df_combined = pd.concat([df_num, df_dummies], axis=1)\n",
    "df_combined.head()"
   ]
  },
  {
   "cell_type": "code",
   "execution_count": 57,
   "metadata": {},
   "outputs": [],
   "source": [
    "# Convert all variables to category\n",
    "# df= df.astype('category')"
   ]
  },
  {
   "cell_type": "code",
   "execution_count": 58,
   "metadata": {},
   "outputs": [],
   "source": [
    "# Convert all variables to float\n",
    "# df[[\"DURATION\", \"AMOUNT\", \"AGE\"]] = df[[\"DURATION\", \"AMOUNT\", \"AGE\"]].astype('float')"
   ]
  },
  {
   "cell_type": "code",
   "execution_count": 59,
   "metadata": {},
   "outputs": [
    {
     "data": {
      "text/html": [
       "<div>\n",
       "<style scoped>\n",
       "    .dataframe tbody tr th:only-of-type {\n",
       "        vertical-align: middle;\n",
       "    }\n",
       "\n",
       "    .dataframe tbody tr th {\n",
       "        vertical-align: top;\n",
       "    }\n",
       "\n",
       "    .dataframe thead th {\n",
       "        text-align: right;\n",
       "    }\n",
       "</style>\n",
       "<table border=\"1\" class=\"dataframe\">\n",
       "  <thead>\n",
       "    <tr style=\"text-align: right;\">\n",
       "      <th></th>\n",
       "      <th>OBS.</th>\n",
       "      <th>CHK_ACCT</th>\n",
       "      <th>DURATION</th>\n",
       "      <th>HISTORY</th>\n",
       "      <th>FURNITURE</th>\n",
       "      <th>RADIO.TV</th>\n",
       "      <th>EDUCATION</th>\n",
       "      <th>RETRAINING</th>\n",
       "      <th>AMOUNT</th>\n",
       "      <th>SAV_ACCT</th>\n",
       "      <th>...</th>\n",
       "      <th>OTHER_INSTALL</th>\n",
       "      <th>RENT</th>\n",
       "      <th>OWN_RES</th>\n",
       "      <th>NUM_CREDITS</th>\n",
       "      <th>JOB</th>\n",
       "      <th>NUM_DEPENDENTS</th>\n",
       "      <th>TELEPHONE</th>\n",
       "      <th>FOREIGN</th>\n",
       "      <th>DEFAULT</th>\n",
       "      <th>CAR_cat</th>\n",
       "    </tr>\n",
       "  </thead>\n",
       "  <tbody>\n",
       "    <tr>\n",
       "      <th>count</th>\n",
       "      <td>1000.000000</td>\n",
       "      <td>1000.000000</td>\n",
       "      <td>1000.000000</td>\n",
       "      <td>1000.00000</td>\n",
       "      <td>1000.000000</td>\n",
       "      <td>1000.000000</td>\n",
       "      <td>1000.000000</td>\n",
       "      <td>1000.000000</td>\n",
       "      <td>1000.000000</td>\n",
       "      <td>1000.000000</td>\n",
       "      <td>...</td>\n",
       "      <td>1000.000000</td>\n",
       "      <td>1000.000000</td>\n",
       "      <td>1000.000000</td>\n",
       "      <td>1000.000000</td>\n",
       "      <td>1000.000000</td>\n",
       "      <td>1000.000000</td>\n",
       "      <td>1000.000000</td>\n",
       "      <td>1000.000000</td>\n",
       "      <td>1000.000000</td>\n",
       "      <td>1000.000000</td>\n",
       "    </tr>\n",
       "    <tr>\n",
       "      <th>mean</th>\n",
       "      <td>500.500000</td>\n",
       "      <td>1.577000</td>\n",
       "      <td>20.893681</td>\n",
       "      <td>2.54500</td>\n",
       "      <td>0.181000</td>\n",
       "      <td>0.280000</td>\n",
       "      <td>0.050000</td>\n",
       "      <td>0.097000</td>\n",
       "      <td>3279.088353</td>\n",
       "      <td>1.105000</td>\n",
       "      <td>...</td>\n",
       "      <td>0.186000</td>\n",
       "      <td>0.179000</td>\n",
       "      <td>0.713000</td>\n",
       "      <td>1.407000</td>\n",
       "      <td>1.904000</td>\n",
       "      <td>1.155000</td>\n",
       "      <td>0.404000</td>\n",
       "      <td>0.037000</td>\n",
       "      <td>0.700000</td>\n",
       "      <td>0.762000</td>\n",
       "    </tr>\n",
       "    <tr>\n",
       "      <th>std</th>\n",
       "      <td>288.819436</td>\n",
       "      <td>1.257638</td>\n",
       "      <td>12.045656</td>\n",
       "      <td>1.08312</td>\n",
       "      <td>0.385211</td>\n",
       "      <td>0.449224</td>\n",
       "      <td>0.218054</td>\n",
       "      <td>0.296106</td>\n",
       "      <td>2820.008748</td>\n",
       "      <td>1.580023</td>\n",
       "      <td>...</td>\n",
       "      <td>0.389301</td>\n",
       "      <td>0.383544</td>\n",
       "      <td>0.452588</td>\n",
       "      <td>0.577654</td>\n",
       "      <td>0.653614</td>\n",
       "      <td>0.362086</td>\n",
       "      <td>0.490943</td>\n",
       "      <td>0.188856</td>\n",
       "      <td>0.458487</td>\n",
       "      <td>0.433063</td>\n",
       "    </tr>\n",
       "    <tr>\n",
       "      <th>min</th>\n",
       "      <td>1.000000</td>\n",
       "      <td>0.000000</td>\n",
       "      <td>4.000000</td>\n",
       "      <td>0.00000</td>\n",
       "      <td>0.000000</td>\n",
       "      <td>0.000000</td>\n",
       "      <td>0.000000</td>\n",
       "      <td>0.000000</td>\n",
       "      <td>250.000000</td>\n",
       "      <td>0.000000</td>\n",
       "      <td>...</td>\n",
       "      <td>0.000000</td>\n",
       "      <td>0.000000</td>\n",
       "      <td>0.000000</td>\n",
       "      <td>1.000000</td>\n",
       "      <td>0.000000</td>\n",
       "      <td>1.000000</td>\n",
       "      <td>0.000000</td>\n",
       "      <td>0.000000</td>\n",
       "      <td>0.000000</td>\n",
       "      <td>-1.000000</td>\n",
       "    </tr>\n",
       "    <tr>\n",
       "      <th>25%</th>\n",
       "      <td>250.750000</td>\n",
       "      <td>0.000000</td>\n",
       "      <td>12.000000</td>\n",
       "      <td>2.00000</td>\n",
       "      <td>0.000000</td>\n",
       "      <td>0.000000</td>\n",
       "      <td>0.000000</td>\n",
       "      <td>0.000000</td>\n",
       "      <td>1371.750000</td>\n",
       "      <td>0.000000</td>\n",
       "      <td>...</td>\n",
       "      <td>0.000000</td>\n",
       "      <td>0.000000</td>\n",
       "      <td>0.000000</td>\n",
       "      <td>1.000000</td>\n",
       "      <td>2.000000</td>\n",
       "      <td>1.000000</td>\n",
       "      <td>0.000000</td>\n",
       "      <td>0.000000</td>\n",
       "      <td>0.000000</td>\n",
       "      <td>1.000000</td>\n",
       "    </tr>\n",
       "    <tr>\n",
       "      <th>50%</th>\n",
       "      <td>500.500000</td>\n",
       "      <td>1.000000</td>\n",
       "      <td>18.000000</td>\n",
       "      <td>2.00000</td>\n",
       "      <td>0.000000</td>\n",
       "      <td>0.000000</td>\n",
       "      <td>0.000000</td>\n",
       "      <td>0.000000</td>\n",
       "      <td>2326.500000</td>\n",
       "      <td>0.000000</td>\n",
       "      <td>...</td>\n",
       "      <td>0.000000</td>\n",
       "      <td>0.000000</td>\n",
       "      <td>1.000000</td>\n",
       "      <td>1.000000</td>\n",
       "      <td>2.000000</td>\n",
       "      <td>1.000000</td>\n",
       "      <td>0.000000</td>\n",
       "      <td>0.000000</td>\n",
       "      <td>1.000000</td>\n",
       "      <td>1.000000</td>\n",
       "    </tr>\n",
       "    <tr>\n",
       "      <th>75%</th>\n",
       "      <td>750.250000</td>\n",
       "      <td>3.000000</td>\n",
       "      <td>24.000000</td>\n",
       "      <td>4.00000</td>\n",
       "      <td>0.000000</td>\n",
       "      <td>1.000000</td>\n",
       "      <td>0.000000</td>\n",
       "      <td>0.000000</td>\n",
       "      <td>3972.250000</td>\n",
       "      <td>2.000000</td>\n",
       "      <td>...</td>\n",
       "      <td>0.000000</td>\n",
       "      <td>0.000000</td>\n",
       "      <td>1.000000</td>\n",
       "      <td>2.000000</td>\n",
       "      <td>2.000000</td>\n",
       "      <td>1.000000</td>\n",
       "      <td>1.000000</td>\n",
       "      <td>0.000000</td>\n",
       "      <td>1.000000</td>\n",
       "      <td>1.000000</td>\n",
       "    </tr>\n",
       "    <tr>\n",
       "      <th>max</th>\n",
       "      <td>1000.000000</td>\n",
       "      <td>3.000000</td>\n",
       "      <td>72.000000</td>\n",
       "      <td>4.00000</td>\n",
       "      <td>1.000000</td>\n",
       "      <td>1.000000</td>\n",
       "      <td>1.000000</td>\n",
       "      <td>1.000000</td>\n",
       "      <td>18424.000000</td>\n",
       "      <td>4.000000</td>\n",
       "      <td>...</td>\n",
       "      <td>1.000000</td>\n",
       "      <td>1.000000</td>\n",
       "      <td>1.000000</td>\n",
       "      <td>4.000000</td>\n",
       "      <td>3.000000</td>\n",
       "      <td>2.000000</td>\n",
       "      <td>1.000000</td>\n",
       "      <td>1.000000</td>\n",
       "      <td>1.000000</td>\n",
       "      <td>1.000000</td>\n",
       "    </tr>\n",
       "  </tbody>\n",
       "</table>\n",
       "<p>8 rows × 28 columns</p>\n",
       "</div>"
      ],
      "text/plain": [
       "              OBS.     CHK_ACCT     DURATION     HISTORY    FURNITURE  \\\n",
       "count  1000.000000  1000.000000  1000.000000  1000.00000  1000.000000   \n",
       "mean    500.500000     1.577000    20.893681     2.54500     0.181000   \n",
       "std     288.819436     1.257638    12.045656     1.08312     0.385211   \n",
       "min       1.000000     0.000000     4.000000     0.00000     0.000000   \n",
       "25%     250.750000     0.000000    12.000000     2.00000     0.000000   \n",
       "50%     500.500000     1.000000    18.000000     2.00000     0.000000   \n",
       "75%     750.250000     3.000000    24.000000     4.00000     0.000000   \n",
       "max    1000.000000     3.000000    72.000000     4.00000     1.000000   \n",
       "\n",
       "          RADIO.TV    EDUCATION   RETRAINING        AMOUNT     SAV_ACCT  \\\n",
       "count  1000.000000  1000.000000  1000.000000   1000.000000  1000.000000   \n",
       "mean      0.280000     0.050000     0.097000   3279.088353     1.105000   \n",
       "std       0.449224     0.218054     0.296106   2820.008748     1.580023   \n",
       "min       0.000000     0.000000     0.000000    250.000000     0.000000   \n",
       "25%       0.000000     0.000000     0.000000   1371.750000     0.000000   \n",
       "50%       0.000000     0.000000     0.000000   2326.500000     0.000000   \n",
       "75%       1.000000     0.000000     0.000000   3972.250000     2.000000   \n",
       "max       1.000000     1.000000     1.000000  18424.000000     4.000000   \n",
       "\n",
       "          ...       OTHER_INSTALL         RENT      OWN_RES  NUM_CREDITS  \\\n",
       "count     ...         1000.000000  1000.000000  1000.000000  1000.000000   \n",
       "mean      ...            0.186000     0.179000     0.713000     1.407000   \n",
       "std       ...            0.389301     0.383544     0.452588     0.577654   \n",
       "min       ...            0.000000     0.000000     0.000000     1.000000   \n",
       "25%       ...            0.000000     0.000000     0.000000     1.000000   \n",
       "50%       ...            0.000000     0.000000     1.000000     1.000000   \n",
       "75%       ...            0.000000     0.000000     1.000000     2.000000   \n",
       "max       ...            1.000000     1.000000     1.000000     4.000000   \n",
       "\n",
       "               JOB  NUM_DEPENDENTS    TELEPHONE      FOREIGN      DEFAULT  \\\n",
       "count  1000.000000     1000.000000  1000.000000  1000.000000  1000.000000   \n",
       "mean      1.904000        1.155000     0.404000     0.037000     0.700000   \n",
       "std       0.653614        0.362086     0.490943     0.188856     0.458487   \n",
       "min       0.000000        1.000000     0.000000     0.000000     0.000000   \n",
       "25%       2.000000        1.000000     0.000000     0.000000     0.000000   \n",
       "50%       2.000000        1.000000     0.000000     0.000000     1.000000   \n",
       "75%       2.000000        1.000000     1.000000     0.000000     1.000000   \n",
       "max       3.000000        2.000000     1.000000     1.000000     1.000000   \n",
       "\n",
       "           CAR_cat  \n",
       "count  1000.000000  \n",
       "mean      0.762000  \n",
       "std       0.433063  \n",
       "min      -1.000000  \n",
       "25%       1.000000  \n",
       "50%       1.000000  \n",
       "75%       1.000000  \n",
       "max       1.000000  \n",
       "\n",
       "[8 rows x 28 columns]"
      ]
     },
     "execution_count": 59,
     "metadata": {},
     "output_type": "execute_result"
    }
   ],
   "source": [
    "# Let's look at some statistical information about our dataframe.\n",
    "df.describe()"
   ]
  },
  {
   "cell_type": "markdown",
   "metadata": {},
   "source": [
    "### Outliers Detection"
   ]
  },
  {
   "cell_type": "code",
   "execution_count": 60,
   "metadata": {},
   "outputs": [
    {
     "data": {
      "image/png": "[encoded data removed]",
      "text/plain": [
       "<Figure size 432x288 with 1 Axes>"
      ]
     },
     "metadata": {},
     "output_type": "display_data"
    }
   ],
   "source": [
    "sns.boxplot(data=df[\"AGE\"])\n",
    "plt.ylabel(\"Age in Years\");"
   ]
  },
  {
   "cell_type": "code",
   "execution_count": 61,
   "metadata": {},
   "outputs": [
    {
     "data": {
      "image/png": "[encoded data removed]",
      "text/plain": [
       "<Figure size 432x288 with 1 Axes>"
      ]
     },
     "metadata": {},
     "output_type": "display_data"
    }
   ],
   "source": [
    "sns.boxplot(data=df[\"AMOUNT\"])\n",
    "plt.ylabel(\"Amount in $\");"
   ]
  },
  {
   "cell_type": "markdown",
   "metadata": {},
   "source": [
    "#### Outliers detection by z-score"
   ]
  },
  {
   "cell_type": "code",
   "execution_count": 62,
   "metadata": {},
   "outputs": [],
   "source": [
    "from scipy import stats\n",
    "import numpy as np\n"
   ]
  },
  {
   "cell_type": "code",
   "execution_count": 63,
   "metadata": {},
   "outputs": [
    {
     "name": "stdout",
     "output_type": "stream",
     "text": [
      "[2.77908240e+00 1.19394207e+00 1.18987261e+00 8.36714884e-01\n",
      " 1.54303035e+00 4.61794428e-02 1.54303035e+00 4.61794428e-02\n",
      " 2.24934581e+00 6.64205472e-01 9.29073770e-01 1.01736320e+00\n",
      " 1.19394207e+00 2.16105637e+00 6.64205472e-01 3.11047741e-01\n",
      " 1.54303035e+00 9.29073770e-01 7.48425451e-01 3.99337174e-01\n",
      " 1.10158318e+00 7.48425451e-01 1.10158318e+00 7.48425451e-01\n",
      " 8.40784337e-01 4.21099899e-02 3.06978288e-01 5.71846586e-01\n",
      " 1.34468875e-01 2.42592467e+00 4.21099899e-02 7.52494904e-01\n",
      " 4.87626606e-01 1.89618808e+00 2.22758308e-01 9.29073770e-01\n",
      " 3.99337174e-01 1.30399423e-01 1.30399423e-01 1.01736320e+00\n",
      " 4.87626606e-01 8.40784337e-01 7.48425451e-01 1.01736320e+00\n",
      " 1.98447751e+00 4.61794428e-02 3.06978288e-01 1.10565264e+00\n",
      " 3.06978288e-01 6.27334150e-16 5.75916039e-01 4.87626606e-01\n",
      " 9.29073770e-01 3.99337174e-01 1.89618808e+00 8.40784337e-01\n",
      " 1.45474091e+00 3.99337174e-01 1.10565264e+00 1.10565264e+00\n",
      " 7.52494904e-01 1.27816205e+00 2.24934581e+00 9.29073770e-01\n",
      " 8.40784337e-01 1.10158318e+00 5.75916039e-01 1.19394207e+00\n",
      " 1.30399423e-01 9.29073770e-01 4.87626606e-01 9.25004317e-01\n",
      " 1.36645148e+00 4.83557153e-01 3.95267721e-01 6.27334150e-16\n",
      " 1.34468875e-01 1.36645148e+00 3.06978288e-01 1.19394207e+00\n",
      " 7.48425451e-01 1.01329375e+00 1.01736320e+00 1.98447751e+00\n",
      " 1.45474091e+00 5.75916039e-01 7.52494904e-01 1.01329375e+00\n",
      " 4.87626606e-01 6.64205472e-01 1.80789864e+00 1.63131978e+00\n",
      " 2.22758308e-01 1.37052093e+00 1.63131978e+00 1.98447751e+00\n",
      " 2.24934581e+00 1.34468875e-01 4.21099899e-02 4.21099899e-02\n",
      " 4.83557153e-01 1.01736320e+00 1.01736320e+00 4.61794428e-02\n",
      " 8.40784337e-01 3.06978288e-01 3.06978288e-01 3.11047741e-01\n",
      " 4.87626606e-01 4.61794428e-02 3.99337174e-01 1.10565264e+00\n",
      " 6.64205472e-01 9.29073770e-01 4.61794428e-02 1.01329375e+00\n",
      " 4.87626606e-01 7.52494904e-01 1.10565264e+00 4.21099899e-02\n",
      " 9.29073770e-01 4.83557153e-01 1.01736320e+00 2.42592467e+00\n",
      " 7.52494904e-01 4.87626606e-01 3.95267721e-01 4.87626606e-01\n",
      " 1.34468875e-01 5.75916039e-01 1.01736320e+00 5.75916039e-01\n",
      " 7.52494904e-01 1.01329375e+00 1.28223150e+00 2.18688855e-01\n",
      " 7.52494904e-01 2.69079297e+00 4.61794428e-02 7.48425451e-01\n",
      " 7.52494904e-01 4.87626606e-01 7.52494904e-01 1.19394207e+00\n",
      " 1.10565264e+00 4.87626606e-01 3.06978288e-01 1.36645148e+00\n",
      " 6.64205472e-01 9.25004317e-01 5.71846586e-01 2.18688855e-01\n",
      " 1.01736320e+00 5.75916039e-01 4.21099899e-02 1.37052093e+00\n",
      " 1.10158318e+00 8.36714884e-01 2.18688855e-01 1.34468875e-01\n",
      " 4.21099899e-02 4.87626606e-01 4.21099899e-02 3.04395070e+00\n",
      " 4.21099899e-02 3.11047741e-01 2.22758308e-01 1.37052093e+00\n",
      " 9.29073770e-01 3.99337174e-01 2.22758308e-01 8.40784337e-01\n",
      " 1.34468875e-01 2.22758308e-01 8.40784337e-01 1.54303035e+00\n",
      " 5.71846586e-01 1.45474091e+00 3.99337174e-01 2.60250354e+00\n",
      " 6.64205472e-01 4.87626606e-01 3.95267721e-01 1.27816205e+00\n",
      " 4.21099899e-02 3.99337174e-01 3.39710843e+00 2.86737184e+00\n",
      " 1.37052093e+00 2.22758308e-01 1.63131978e+00 1.34468875e-01\n",
      " 4.21099899e-02 5.75916039e-01 1.28223150e+00 1.34468875e-01\n",
      " 6.64205472e-01 7.52494904e-01 4.21099899e-02 3.95267721e-01\n",
      " 1.45474091e+00 7.52494904e-01 8.40784337e-01 1.28223150e+00\n",
      " 2.18688855e-01 2.18688855e-01 6.60136019e-01 8.40784337e-01\n",
      " 1.28223150e+00 1.71960921e+00 2.22758308e-01 8.36714884e-01\n",
      " 1.27816205e+00 2.69079297e+00 1.36645148e+00 3.06978288e-01\n",
      " 3.99337174e-01 1.10565264e+00 1.01736320e+00 2.51421411e+00\n",
      " 8.40784337e-01 1.10565264e+00 4.87626606e-01 3.11047741e-01\n",
      " 4.87626606e-01 7.52494904e-01 7.52494904e-01 1.54303035e+00\n",
      " 1.19394207e+00 1.19394207e+00 8.40784337e-01 1.36645148e+00\n",
      " 4.61794428e-02 9.29073770e-01 5.71846586e-01 4.87626606e-01\n",
      " 1.10565264e+00 2.24934581e+00 4.61794428e-02 3.06978288e-01\n",
      " 5.75916039e-01 1.36645148e+00 1.01736320e+00 7.52494904e-01\n",
      " 4.61794428e-02 9.29073770e-01 1.45474091e+00 4.61794428e-02\n",
      " 8.40784337e-01 1.19394207e+00 3.06978288e-01 9.25004317e-01\n",
      " 1.01736320e+00 4.61794428e-02 1.01736320e+00 7.52494904e-01\n",
      " 4.61794428e-02 5.75916039e-01 1.10565264e+00 1.89618808e+00\n",
      " 7.52494904e-01 1.71960921e+00 4.21099899e-02 1.89618808e+00\n",
      " 3.11047741e-01 1.30399423e-01 4.21099899e-02 2.18688855e-01\n",
      " 8.36714884e-01 9.29073770e-01 3.11047741e-01 1.30399423e-01\n",
      " 4.21099899e-02 6.64205472e-01 1.34468875e-01 3.11047741e-01\n",
      " 8.40784337e-01 1.18987261e+00 3.11047741e-01 5.75916039e-01\n",
      " 1.10565264e+00 1.27816205e+00 1.18987261e+00 2.42592467e+00\n",
      " 1.30399423e-01 4.61794428e-02 8.40784337e-01 3.99337174e-01\n",
      " 1.18987261e+00 1.10158318e+00 8.40784337e-01 6.64205472e-01\n",
      " 7.48425451e-01 1.80789864e+00 9.25004317e-01 8.40784337e-01\n",
      " 1.37052093e+00 8.36714884e-01 6.60136019e-01 3.11047741e-01\n",
      " 1.63131978e+00 5.71846586e-01 1.30399423e-01 1.18987261e+00\n",
      " 7.48425451e-01 2.22758308e-01 1.01736320e+00 2.22758308e-01\n",
      " 1.01736320e+00 1.19394207e+00 3.95267721e-01 9.29073770e-01\n",
      " 8.40784337e-01 9.29073770e-01 5.75916039e-01 3.99337174e-01\n",
      " 2.18688855e-01 1.10158318e+00 3.11047741e-01 7.52494904e-01\n",
      " 6.64205472e-01 3.11047741e-01 1.34468875e-01 6.64205472e-01\n",
      " 4.21099899e-02 3.06978288e-01 1.18987261e+00 1.34468875e-01\n",
      " 3.99337174e-01 6.64205472e-01 3.48539787e+00 4.87626606e-01\n",
      " 1.01736320e+00 1.01736320e+00 1.10565264e+00 7.48425451e-01\n",
      " 1.10565264e+00 1.01736320e+00 6.64205472e-01 3.99337174e-01\n",
      " 1.01736320e+00 8.40784337e-01 9.29073770e-01 2.22758308e-01\n",
      " 1.30399423e-01 6.60136019e-01 1.10565264e+00 1.10565264e+00\n",
      " 1.34468875e-01 3.11047741e-01 1.10565264e+00 5.75916039e-01\n",
      " 2.18688855e-01 6.64205472e-01 9.25004317e-01 1.10565264e+00\n",
      " 1.18987261e+00 8.40784337e-01 6.64205472e-01 1.10565264e+00\n",
      " 2.24934581e+00 1.30399423e-01 4.21099899e-02 1.28223150e+00\n",
      " 9.29073770e-01 4.21099899e-02 7.52494904e-01 1.19394207e+00\n",
      " 5.71846586e-01 3.95267721e-01 4.21099899e-02 2.22758308e-01\n",
      " 1.10565264e+00 2.42592467e+00 2.16105637e+00 1.30399423e-01\n",
      " 1.34468875e-01 4.21099899e-02 1.89618808e+00 1.45474091e+00\n",
      " 3.06978288e-01 2.18688855e-01 9.29073770e-01 8.40784337e-01\n",
      " 8.40784337e-01 9.29073770e-01 1.28223150e+00 3.95267721e-01\n",
      " 7.52494904e-01 7.52494904e-01 4.87626606e-01 1.45881037e+00\n",
      " 3.06978288e-01 3.99337174e-01 3.99337174e-01 3.11047741e-01\n",
      " 1.71960921e+00 9.25004317e-01 9.25004317e-01 6.60136019e-01\n",
      " 3.06978288e-01 6.64205472e-01 7.52494904e-01 7.52494904e-01\n",
      " 6.60136019e-01 1.19394207e+00 6.60136019e-01 7.52494904e-01\n",
      " 8.40784337e-01 6.64205472e-01 1.37052093e+00 4.61794428e-02\n",
      " 5.71846586e-01 3.95267721e-01 4.61794428e-02 4.61794428e-02\n",
      " 2.22758308e-01 1.10565264e+00 3.99337174e-01 2.22758308e-01\n",
      " 1.37052093e+00 4.87626606e-01 1.01329375e+00 1.34468875e-01\n",
      " 9.29073770e-01 1.28223150e+00 5.75916039e-01 9.25004317e-01\n",
      " 1.37052093e+00 1.71960921e+00 3.39710843e+00 5.75916039e-01\n",
      " 4.21099899e-02 2.22758308e-01 9.29073770e-01 9.29073770e-01\n",
      " 1.10565264e+00 1.30399423e-01 2.60250354e+00 8.40784337e-01\n",
      " 3.06978288e-01 4.87626606e-01 5.75916039e-01 4.83557153e-01\n",
      " 4.87626606e-01 4.83557153e-01 1.34468875e-01 4.61794428e-02\n",
      " 1.71960921e+00 2.24934581e+00 4.87626606e-01 5.75916039e-01\n",
      " 1.34468875e-01 4.61794428e-02 3.99337174e-01 5.75916039e-01\n",
      " 4.21099899e-02 4.61794428e-02 7.52494904e-01 3.11047741e-01\n",
      " 1.30399423e-01 4.21099899e-02 1.34468875e-01 2.18688855e-01\n",
      " 1.34468875e-01 2.42592467e+00 5.75916039e-01 3.11047741e-01\n",
      " 8.40784337e-01 4.61794428e-02 1.19394207e+00 1.10565264e+00\n",
      " 6.64205472e-01 4.21099899e-02 2.22758308e-01 8.40784337e-01\n",
      " 1.01736320e+00 9.29073770e-01 3.06978288e-01 7.48425451e-01\n",
      " 1.10565264e+00 8.40784337e-01 1.89618808e+00 4.87626606e-01\n",
      " 7.48425451e-01 1.01329375e+00 1.45474091e+00 2.33763524e+00\n",
      " 4.61794428e-02 8.40784337e-01 8.40784337e-01 5.71846586e-01\n",
      " 7.52494904e-01 2.18688855e-01 3.06978288e-01 1.37052093e+00\n",
      " 5.75916039e-01 3.95267721e-01 3.11047741e-01 6.64205472e-01\n",
      " 7.52494904e-01 5.71846586e-01 1.18987261e+00 2.18688855e-01\n",
      " 1.01736320e+00 7.52494904e-01 4.21099899e-02 1.34468875e-01\n",
      " 6.64205472e-01 8.36714884e-01 8.40784337e-01 3.11047741e-01\n",
      " 8.40784337e-01 1.37052093e+00 1.63131978e+00 1.30399423e-01\n",
      " 3.95267721e-01 1.10565264e+00 6.60136019e-01 4.21099899e-02\n",
      " 7.48425451e-01 1.01736320e+00 1.54303035e+00 1.10565264e+00\n",
      " 8.40784337e-01 4.87626606e-01 3.99337174e-01 5.71846586e-01\n",
      " 3.99337174e-01 4.83557153e-01 3.11047741e-01 6.64205472e-01\n",
      " 4.83557153e-01 8.40784337e-01 9.29073770e-01 2.22758308e-01\n",
      " 3.48539787e+00 1.30399423e-01 5.71846586e-01 8.36714884e-01\n",
      " 1.10565264e+00 2.16105637e+00 3.99337174e-01 1.34468875e-01\n",
      " 2.24934581e+00 6.60136019e-01 1.30399423e-01 3.11047741e-01\n",
      " 1.01736320e+00 4.61794428e-02 1.10565264e+00 8.36714884e-01\n",
      " 1.34468875e-01 7.52494904e-01 2.77908240e+00 1.19394207e+00\n",
      " 6.64205472e-01 5.75916039e-01 7.52494904e-01 3.99337174e-01\n",
      " 1.18987261e+00 1.01736320e+00 5.75916039e-01 1.30399423e-01\n",
      " 1.30399423e-01 1.10565264e+00 4.21099899e-02 1.34468875e-01\n",
      " 4.83557153e-01 3.99337174e-01 1.10565264e+00 2.18688855e-01\n",
      " 8.40784337e-01 1.19394207e+00 7.52494904e-01 1.01736320e+00\n",
      " 7.52494904e-01 2.22758308e-01 7.52494904e-01 7.52494904e-01\n",
      " 4.87626606e-01 1.18987261e+00 8.40784337e-01 2.22758308e-01\n",
      " 1.45474091e+00 1.37052093e+00 4.21099899e-02 1.28223150e+00\n",
      " 1.01329375e+00 2.16105637e+00 1.98447751e+00 5.71846586e-01\n",
      " 4.21099899e-02 1.37052093e+00 3.95267721e-01 3.11047741e-01\n",
      " 1.10565264e+00 4.21099899e-02 3.99337174e-01 3.11047741e-01\n",
      " 8.36714884e-01 4.87626606e-01 1.34468875e-01 6.64205472e-01\n",
      " 1.10565264e+00 1.19394207e+00 3.39710843e+00 1.27816205e+00\n",
      " 2.22758308e-01 8.36714884e-01 1.19394207e+00 1.10158318e+00\n",
      " 5.75916039e-01 1.19394207e+00 1.19394207e+00 1.10158318e+00\n",
      " 7.52494904e-01 1.30399423e-01 1.28223150e+00 1.18987261e+00\n",
      " 7.52494904e-01 3.11047741e-01 2.18688855e-01 1.19394207e+00\n",
      " 2.60250354e+00 4.61794428e-02 4.83557153e-01 5.75916039e-01\n",
      " 4.21099899e-02 2.51421411e+00 6.64205472e-01 7.48425451e-01\n",
      " 1.10565264e+00 1.45881037e+00 9.29073770e-01 1.01329375e+00\n",
      " 6.64205472e-01 1.28223150e+00 1.34468875e-01 8.40784337e-01\n",
      " 7.52494904e-01 2.18688855e-01 3.95267721e-01 2.22758308e-01\n",
      " 3.11047741e-01 7.52494904e-01 3.11047741e-01 8.40784337e-01\n",
      " 2.18688855e-01 3.95267721e-01 1.27816205e+00 1.30399423e-01\n",
      " 8.36714884e-01 5.71846586e-01 4.61794428e-02 1.19394207e+00\n",
      " 4.83557153e-01 1.30399423e-01 6.64205472e-01 4.83557153e-01\n",
      " 1.10565264e+00 1.10565264e+00 1.27816205e+00 4.61794428e-02\n",
      " 1.27816205e+00 7.52494904e-01 1.34468875e-01 7.52494904e-01\n",
      " 6.60136019e-01 1.01329375e+00 7.52494904e-01 3.99337174e-01\n",
      " 5.71846586e-01 1.01736320e+00 4.83557153e-01 8.40784337e-01\n",
      " 2.22758308e-01 1.01736320e+00 2.51421411e+00 8.40784337e-01\n",
      " 1.80789864e+00 1.30399423e-01 2.22758308e-01 1.01329375e+00\n",
      " 3.99337174e-01 1.34468875e-01 7.52494904e-01 4.87626606e-01\n",
      " 4.61794428e-02 3.99337174e-01 9.29073770e-01 9.29073770e-01\n",
      " 5.75916039e-01 7.48425451e-01 6.64205472e-01 1.27816205e+00\n",
      " 5.75916039e-01 2.18688855e-01 1.01736320e+00 3.95267721e-01\n",
      " 5.75916039e-01 9.25004317e-01 1.01329375e+00 4.83557153e-01\n",
      " 3.11047741e-01 4.61794428e-02 1.01736320e+00 9.29073770e-01\n",
      " 9.29073770e-01 1.30399423e-01 3.11047741e-01 4.61794428e-02\n",
      " 9.25004317e-01 9.29073770e-01 7.52494904e-01 2.42592467e+00\n",
      " 3.95267721e-01 3.11047741e-01 3.99337174e-01 3.99337174e-01\n",
      " 1.34468875e-01 1.01736320e+00 1.01736320e+00 2.69079297e+00\n",
      " 1.28223150e+00 4.83557153e-01 1.01329375e+00 9.29073770e-01\n",
      " 2.07276694e+00 4.21099899e-02 2.22758308e-01 1.28223150e+00\n",
      " 7.48425451e-01 6.64205472e-01 1.30399423e-01 5.75916039e-01\n",
      " 1.10565264e+00 4.61794428e-02 8.36714884e-01 8.40784337e-01\n",
      " 3.11047741e-01 1.10565264e+00 4.83557153e-01 1.19394207e+00\n",
      " 4.87626606e-01 6.64205472e-01 1.10565264e+00 1.30399423e-01\n",
      " 8.40784337e-01 2.22758308e-01 1.18987261e+00 1.10565264e+00\n",
      " 1.10565264e+00 9.29073770e-01 1.71960921e+00 3.11047741e-01\n",
      " 3.39710843e+00 3.06978288e-01 3.99337174e-01 4.61794428e-02\n",
      " 2.07276694e+00 1.01736320e+00 1.01736320e+00 4.87626606e-01\n",
      " 7.52494904e-01 3.95267721e-01 3.99337174e-01 3.99337174e-01\n",
      " 6.64205472e-01 2.42592467e+00 8.40784337e-01 9.29073770e-01\n",
      " 4.21099899e-02 1.45474091e+00 2.69079297e+00 9.29073770e-01\n",
      " 1.30399423e-01 9.29073770e-01 2.18688855e-01 2.77908240e+00\n",
      " 9.29073770e-01 2.16105637e+00 3.99337174e-01 1.10565264e+00\n",
      " 2.16105637e+00 4.61794428e-02 3.95267721e-01 2.18688855e-01\n",
      " 1.27816205e+00 7.52494904e-01 3.06978288e-01 4.83557153e-01\n",
      " 7.52494904e-01 1.36645148e+00 3.11047741e-01 1.19394207e+00\n",
      " 1.36645148e+00 1.19394207e+00 1.63131978e+00 4.61794428e-02\n",
      " 1.63131978e+00 1.10158318e+00 1.01736320e+00 4.61794428e-02\n",
      " 1.01736320e+00 1.01736320e+00 8.40784337e-01 2.60250354e+00\n",
      " 1.71960921e+00 8.40784337e-01 8.40784337e-01 6.64205472e-01\n",
      " 1.01736320e+00 1.63131978e+00 9.25004317e-01 1.63131978e+00\n",
      " 2.33763524e+00 1.01736320e+00 6.60136019e-01 8.40784337e-01\n",
      " 7.52494904e-01 1.01736320e+00 4.83557153e-01 1.01329375e+00\n",
      " 4.61794428e-02 4.87626606e-01 2.22758308e-01 4.21099899e-02\n",
      " 1.01329375e+00 2.18688855e-01 7.48425451e-01 1.10565264e+00\n",
      " 5.75916039e-01 5.71846586e-01 9.29073770e-01 1.10158318e+00\n",
      " 1.28223150e+00 1.10565264e+00 2.42592467e+00 9.25004317e-01\n",
      " 5.75916039e-01 6.64205472e-01 1.10565264e+00 1.27816205e+00\n",
      " 1.01329375e+00 4.61794428e-02 2.86737184e+00 6.64205472e-01\n",
      " 2.07276694e+00 1.89618808e+00 2.22758308e-01 6.60136019e-01\n",
      " 4.61794428e-02 3.11047741e-01 8.36714884e-01 2.22758308e-01\n",
      " 3.95267721e-01 6.64205472e-01 5.75916039e-01 8.40784337e-01\n",
      " 7.52494904e-01 6.64205472e-01 4.61794428e-02 3.11047741e-01\n",
      " 9.29073770e-01 1.37052093e+00 7.52494904e-01 5.71846586e-01\n",
      " 1.30399423e-01 1.01736320e+00 3.95267721e-01 9.25004317e-01\n",
      " 8.40784337e-01 1.01736320e+00 5.75916039e-01 3.95267721e-01\n",
      " 4.21099899e-02 6.64205472e-01 7.52494904e-01 4.21099899e-02\n",
      " 2.18688855e-01 1.10158318e+00 4.21099899e-02 2.60250354e+00\n",
      " 6.60136019e-01 1.54303035e+00 1.34468875e-01 1.10565264e+00\n",
      " 1.34468875e-01 3.95267721e-01 6.60136019e-01 9.25004317e-01\n",
      " 2.18688855e-01 1.34468875e-01 5.75916039e-01 3.99337174e-01\n",
      " 6.64205472e-01 4.61794428e-02 2.22758308e-01 5.71846586e-01\n",
      " 6.60136019e-01 7.48425451e-01 5.71846586e-01 3.95267721e-01\n",
      " 4.21099899e-02 1.37052093e+00 1.01736320e+00 7.52494904e-01\n",
      " 9.25004317e-01 2.22758308e-01 1.34468875e-01 9.29073770e-01\n",
      " 9.29073770e-01 6.64205472e-01 3.99337174e-01 3.11047741e-01\n",
      " 3.11047741e-01 2.86737184e+00 2.22758308e-01 3.06978288e-01\n",
      " 6.64205472e-01 1.30399423e-01 1.19394207e+00 4.87626606e-01\n",
      " 1.71960921e+00 9.25004317e-01 1.28223150e+00 3.06978288e-01\n",
      " 1.98447751e+00 6.60136019e-01 1.01736320e+00 1.19394207e+00\n",
      " 4.87626606e-01 5.71846586e-01 1.10565264e+00 4.87626606e-01\n",
      " 6.64205472e-01 4.87626606e-01 5.71846586e-01 9.25004317e-01\n",
      " 8.36714884e-01 3.99337174e-01 3.99337174e-01 5.71846586e-01\n",
      " 9.25004317e-01 4.87626606e-01 4.87626606e-01 2.18688855e-01\n",
      " 6.60136019e-01 3.99337174e-01 3.95267721e-01 1.01736320e+00\n",
      " 6.64205472e-01 8.40784337e-01 5.75916039e-01 1.89618808e+00\n",
      " 1.18987261e+00 1.30399423e-01 8.36714884e-01 4.87626606e-01\n",
      " 4.87626606e-01 1.01329375e+00 5.75916039e-01 4.61794428e-02\n",
      " 1.19394207e+00 8.40784337e-01 1.10565264e+00 1.63131978e+00\n",
      " 5.75916039e-01 3.95267721e-01 1.19394207e+00 6.60136019e-01\n",
      " 5.75916039e-01 4.21099899e-02 2.22758308e-01 1.89618808e+00\n",
      " 2.51421411e+00 5.71846586e-01 1.01329375e+00 9.29073770e-01\n",
      " 1.18987261e+00 2.22758308e-01 6.64205472e-01 8.40784337e-01\n",
      " 4.87626606e-01 9.29073770e-01 2.22758308e-01 2.51421411e+00\n",
      " 5.75916039e-01 1.10158318e+00 1.30399423e-01 1.34468875e-01\n",
      " 1.10565264e+00 4.87626606e-01 1.27816205e+00 3.99337174e-01\n",
      " 3.95267721e-01 2.18688855e-01 1.10565264e+00 7.52494904e-01]\n"
     ]
    }
   ],
   "source": [
    "z = np.abs(stats.zscore(df[\"AGE\"]))\n",
    "print(z)"
   ]
  },
  {
   "cell_type": "code",
   "execution_count": 64,
   "metadata": {},
   "outputs": [
    {
     "name": "stdout",
     "output_type": "stream",
     "text": [
      "(array([163, 186, 330, 430, 536, 606, 756], dtype=int64),)\n"
     ]
    }
   ],
   "source": [
    "threshold = 3\n",
    "print(np.where(z > 3))"
   ]
  },
  {
   "cell_type": "code",
   "execution_count": 65,
   "metadata": {},
   "outputs": [],
   "source": [
    "df_Age_out = df[\"AGE\"][(z > 3)]"
   ]
  },
  {
   "cell_type": "code",
   "execution_count": 66,
   "metadata": {},
   "outputs": [
    {
     "data": {
      "text/plain": [
       "163    70.0\n",
       "186    74.0\n",
       "330    75.0\n",
       "430    74.0\n",
       "536    75.0\n",
       "606    74.0\n",
       "756    74.0\n",
       "Name: AGE, dtype: float64"
      ]
     },
     "execution_count": 66,
     "metadata": {},
     "output_type": "execute_result"
    }
   ],
   "source": [
    "df_Age_out"
   ]
  },
  {
   "cell_type": "code",
   "execution_count": 67,
   "metadata": {},
   "outputs": [
    {
     "data": {
      "text/plain": [
       "70.0"
      ]
     },
     "execution_count": 67,
     "metadata": {},
     "output_type": "execute_result"
    }
   ],
   "source": [
    "df[\"AGE\"][163]"
   ]
  },
  {
   "cell_type": "markdown",
   "metadata": {},
   "source": [
    "#### Outliers detection by Interquartile Range (IQR)"
   ]
  },
  {
   "cell_type": "code",
   "execution_count": 68,
   "metadata": {},
   "outputs": [
    {
     "name": "stdout",
     "output_type": "stream",
     "text": [
      "15.0\n"
     ]
    }
   ],
   "source": [
    "Q1 = df[\"AGE\"].quantile(0.25)\n",
    "Q3 = df[\"AGE\"].quantile(0.75)\n",
    "IQR = Q3 - Q1\n",
    "print(IQR)"
   ]
  },
  {
   "cell_type": "code",
   "execution_count": 69,
   "metadata": {},
   "outputs": [
    {
     "name": "stdout",
     "output_type": "stream",
     "text": [
      "DURATION      12.0\n",
      "AMOUNT      2604.0\n",
      "AGE           15.0\n",
      "dtype: float64\n"
     ]
    }
   ],
   "source": [
    "Q1 = df_num.quantile(0.25)\n",
    "Q3 = df_num.quantile(0.75)\n",
    "IQR = Q3 - Q1\n",
    "print(IQR)"
   ]
  },
  {
   "cell_type": "code",
   "execution_count": 70,
   "metadata": {},
   "outputs": [
    {
     "name": "stdout",
     "output_type": "stream",
     "text": [
      "     DURATION  AMOUNT    AGE\n",
      "0       False   False   True\n",
      "1        True   False  False\n",
      "2       False   False  False\n",
      "3       False    True  False\n",
      "4       False   False  False\n",
      "5       False    True  False\n",
      "6       False   False  False\n",
      "7       False   False  False\n",
      "8       False   False  False\n",
      "9       False   False  False\n",
      "10      False   False  False\n",
      "11       True   False  False\n",
      "12      False   False  False\n",
      "13      False   False  False\n",
      "14      False   False  False\n",
      "15      False   False  False\n",
      "16      False   False  False\n",
      "17      False    True  False\n",
      "18      False    True  False\n",
      "19      False   False  False\n",
      "20      False   False  False\n",
      "21      False   False  False\n",
      "22      False   False  False\n",
      "23      False   False  False\n",
      "24      False   False  False\n",
      "25      False   False  False\n",
      "26      False   False  False\n",
      "27      False   False  False\n",
      "28      False   False  False\n",
      "29       True   False  False\n",
      "..        ...     ...    ...\n",
      "970     False   False  False\n",
      "971     False   False  False\n",
      "972     False   False  False\n",
      "973      True   False  False\n",
      "974     False   False  False\n",
      "975     False   False  False\n",
      "976     False   False  False\n",
      "977     False   False  False\n",
      "978     False   False  False\n",
      "979     False   False  False\n",
      "980     False    True  False\n",
      "981      True   False  False\n",
      "982     False   False  False\n",
      "983     False    True  False\n",
      "984     False   False  False\n",
      "985     False   False  False\n",
      "986     False   False  False\n",
      "987     False   False  False\n",
      "988     False   False  False\n",
      "989     False   False  False\n",
      "990     False   False  False\n",
      "991     False   False  False\n",
      "992     False   False  False\n",
      "993     False   False  False\n",
      "994     False   False  False\n",
      "995     False   False  False\n",
      "996     False   False  False\n",
      "997     False   False  False\n",
      "998      True   False  False\n",
      "999      True   False  False\n",
      "\n",
      "[1000 rows x 3 columns]\n"
     ]
    }
   ],
   "source": [
    "print((df_num < (Q1 - 1.5 * IQR)) |(df_num > (Q3 + 1.5 * IQR)))"
   ]
  },
  {
   "cell_type": "code",
   "execution_count": null,
   "metadata": {},
   "outputs": [],
   "source": []
  },
  {
   "cell_type": "markdown",
   "metadata": {},
   "source": [
    "### Some graphs"
   ]
  },
  {
   "cell_type": "code",
   "execution_count": 71,
   "metadata": {},
   "outputs": [
    {
     "data": {
      "image/png": "[encoded data removed]",
      "text/plain": [
       "<Figure size 432x288 with 1 Axes>"
      ]
     },
     "metadata": {},
     "output_type": "display_data"
    }
   ],
   "source": [
    "sns.boxplot(data=df[\"DURATION\"])\n",
    "\n",
    "plt.ylabel(\"Duration\");"
   ]
  },
  {
   "cell_type": "code",
   "execution_count": 72,
   "metadata": {},
   "outputs": [
    {
     "data": {
      "text/plain": [
       "<matplotlib.axes._subplots.AxesSubplot at 0x24f8dd62be0>"
      ]
     },
     "execution_count": 72,
     "metadata": {},
     "output_type": "execute_result"
    },
    {
     "data": {
      "image/png": "[encoded data removed]",
      "text/plain": [
       "<Figure size 432x288 with 1 Axes>"
      ]
     },
     "metadata": {},
     "output_type": "display_data"
    }
   ],
   "source": [
    "\n",
    "sns.boxplot( x=df[\"NUM_CREDITS\"], y=df[\"AMOUNT\"] )"
   ]
  },
  {
   "cell_type": "code",
   "execution_count": 73,
   "metadata": {},
   "outputs": [
    {
     "data": {
      "text/plain": [
       "<matplotlib.axes._subplots.AxesSubplot at 0x24f8dba8ef0>"
      ]
     },
     "execution_count": 73,
     "metadata": {},
     "output_type": "execute_result"
    },
    {
     "data": {
      "image/png": "[encoded data removed]",
      "text/plain": [
       "<Figure size 432x288 with 1 Axes>"
      ]
     },
     "metadata": {},
     "output_type": "display_data"
    }
   ],
   "source": [
    "sns.violinplot( x=df[\"NUM_DEPENDENTS\"], y=df[\"AMOUNT\"] )\n"
   ]
  },
  {
   "cell_type": "code",
   "execution_count": 74,
   "metadata": {},
   "outputs": [
    {
     "data": {
      "text/plain": [
       "<matplotlib.axes._subplots.AxesSubplot at 0x24f8c696c18>"
      ]
     },
     "execution_count": 74,
     "metadata": {},
     "output_type": "execute_result"
    },
    {
     "data": {
      "image/png": "[encoded data removed]",
      "text/plain": [
       "<Figure size 432x288 with 1 Axes>"
      ]
     },
     "metadata": {},
     "output_type": "display_data"
    }
   ],
   "source": [
    "sns.boxplot( x=df[\"JOB\"], y=df[\"AMOUNT\"] )"
   ]
  },
  {
   "cell_type": "code",
   "execution_count": 75,
   "metadata": {},
   "outputs": [
    {
     "data": {
      "text/plain": [
       "<matplotlib.axes._subplots.AxesSubplot at 0x24f8dcd0160>"
      ]
     },
     "execution_count": 75,
     "metadata": {},
     "output_type": "execute_result"
    },
    {
     "data": {
      "image/png": "[encoded data removed]",
      "text/plain": [
       "<Figure size 432x288 with 1 Axes>"
      ]
     },
     "metadata": {},
     "output_type": "display_data"
    }
   ],
   "source": [
    "sns.boxplot( x=df[\"EMPLOYMENT\"], y=df[\"AMOUNT\"] )"
   ]
  },
  {
   "cell_type": "code",
   "execution_count": 76,
   "metadata": {},
   "outputs": [
    {
     "data": {
      "text/plain": [
       "<matplotlib.axes._subplots.AxesSubplot at 0x24f8dcc2b38>"
      ]
     },
     "execution_count": 76,
     "metadata": {},
     "output_type": "execute_result"
    },
    {
     "data": {
      "image/png": "[encoded data removed]",
      "text/plain": [
       "<Figure size 432x288 with 1 Axes>"
      ]
     },
     "metadata": {},
     "output_type": "display_data"
    }
   ],
   "source": [
    "sns.boxplot( x=df[\"CAR\"], y=df[\"AMOUNT\"] )"
   ]
  },
  {
   "cell_type": "code",
   "execution_count": 77,
   "metadata": {},
   "outputs": [
    {
     "data": {
      "text/plain": [
       "<matplotlib.axes._subplots.AxesSubplot at 0x24f8d793e10>"
      ]
     },
     "execution_count": 77,
     "metadata": {},
     "output_type": "execute_result"
    },
    {
     "data": {
      "image/png": "[encoded data removed]",
      "text/plain": [
       "<Figure size 432x288 with 1 Axes>"
      ]
     },
     "metadata": {},
     "output_type": "display_data"
    }
   ],
   "source": [
    "sns.boxplot( x=df[\"MaritalStatus\"], y=df[\"AMOUNT\"] )"
   ]
  },
  {
   "cell_type": "code",
   "execution_count": null,
   "metadata": {},
   "outputs": [],
   "source": []
  },
  {
   "cell_type": "code",
   "execution_count": 78,
   "metadata": {},
   "outputs": [
    {
     "data": {
      "text/plain": [
       "[<matplotlib.lines.Line2D at 0x24f8dcc2358>]"
      ]
     },
     "execution_count": 78,
     "metadata": {},
     "output_type": "execute_result"
    },
    {
     "data": {
      "image/png": "[encoded data removed]",
      "text/plain": [
       "<Figure size 432x288 with 1 Axes>"
      ]
     },
     "metadata": {},
     "output_type": "display_data"
    }
   ],
   "source": [
    "plt.plot(df[\"AGE\"], df[\"AMOUNT\"], '-p', color='blue',\n",
    "         markersize=5, linewidth=4,\n",
    "         markerfacecolor='white',\n",
    "         markeredgecolor='gray',\n",
    "         markeredgewidth=2)\n"
   ]
  },
  {
   "cell_type": "code",
   "execution_count": 79,
   "metadata": {},
   "outputs": [
    {
     "data": {
      "image/png": "[encoded data removed]",
      "text/plain": [
       "<Figure size 432x288 with 1 Axes>"
      ]
     },
     "metadata": {},
     "output_type": "display_data"
    }
   ],
   "source": [
    "plt.plot(df[\"AGE\"], df[\"AMOUNT\"])\n",
    "plt.xlabel(\"Age in Years\")\n",
    "plt.ylabel(\"Amount in $\");"
   ]
  },
  {
   "cell_type": "code",
   "execution_count": 80,
   "metadata": {},
   "outputs": [
    {
     "data": {
      "image/png": "[encoded data removed]",
      "text/plain": [
       "<Figure size 432x288 with 1 Axes>"
      ]
     },
     "metadata": {},
     "output_type": "display_data"
    }
   ],
   "source": [
    "plt.scatter(df[\"AGE\"], df[\"AMOUNT\"])\n",
    "plt.xlabel(\"Age in Years\")\n",
    "plt.ylabel(\"Amount in $\");"
   ]
  },
  {
   "cell_type": "code",
   "execution_count": 81,
   "metadata": {},
   "outputs": [
    {
     "data": {
      "image/png": "[encoded data removed]",
      "text/plain": [
       "<Figure size 432x288 with 1 Axes>"
      ]
     },
     "metadata": {},
     "output_type": "display_data"
    }
   ],
   "source": [
    "plt.scatter(df[\"AGE\"], df[\"AMOUNT\"],\n",
    "           color='gray')\n",
    "plt.xlabel(\"Age in Years\")\n",
    "plt.ylabel(\"Amount in $\");"
   ]
  },
  {
   "cell_type": "code",
   "execution_count": 82,
   "metadata": {},
   "outputs": [
    {
     "data": {
      "text/plain": [
       "<matplotlib.collections.PathCollection at 0x24f8df0b828>"
      ]
     },
     "execution_count": 82,
     "metadata": {},
     "output_type": "execute_result"
    },
    {
     "data": {
      "image/png": "[encoded data removed]",
      "text/plain": [
       "<Figure size 432x288 with 1 Axes>"
      ]
     },
     "metadata": {},
     "output_type": "display_data"
    }
   ],
   "source": [
    "plt.scatter(df[\"AGE\"], df[\"DURATION\"])"
   ]
  },
  {
   "cell_type": "code",
   "execution_count": 83,
   "metadata": {},
   "outputs": [
    {
     "data": {
      "text/plain": [
       "<matplotlib.collections.PathCollection at 0x24f8e0e3f60>"
      ]
     },
     "execution_count": 83,
     "metadata": {},
     "output_type": "execute_result"
    },
    {
     "data": {
      "image/png": "[encoded data removed]",
      "text/plain": [
       "<Figure size 432x288 with 1 Axes>"
      ]
     },
     "metadata": {},
     "output_type": "display_data"
    }
   ],
   "source": [
    "plt.scatter(df[\"DURATION\"], df[\"AMOUNT\"])"
   ]
  },
  {
   "cell_type": "markdown",
   "metadata": {},
   "source": [
    "### Correlation Analysis"
   ]
  },
  {
   "cell_type": "code",
   "execution_count": 86,
   "metadata": {},
   "outputs": [],
   "source": [
    "import matplotlib.pyplot as plt\n",
    "import seaborn as sns\n",
    "%matplotlib inline"
   ]
  },
  {
   "cell_type": "code",
   "execution_count": 87,
   "metadata": {},
   "outputs": [
    {
     "data": {
      "text/plain": [
       "<matplotlib.axes._subplots.AxesSubplot at 0x24f8e198630>"
      ]
     },
     "execution_count": 87,
     "metadata": {},
     "output_type": "execute_result"
    },
    {
     "data": {
      "image/png": "[encoded data removed]",
      "text/plain": [
       "<Figure size 360x360 with 2 Axes>"
      ]
     },
     "metadata": {},
     "output_type": "display_data"
    }
   ],
   "source": [
    "plt.figure(figsize = (5,5))\n",
    "sns.heatmap(df_num.corr(),annot = True)"
   ]
  },
  {
   "cell_type": "markdown",
   "metadata": {},
   "source": [
    "### Feature Scaling"
   ]
  },
  {
   "cell_type": "markdown",
   "metadata": {},
   "source": [
    "#### Standardizing"
   ]
  },
  {
   "cell_type": "code",
   "execution_count": 88,
   "metadata": {},
   "outputs": [
    {
     "name": "stdout",
     "output_type": "stream",
     "text": [
      "   DURATION  AMOUNT   AGE\n",
      "0       6.0  1169.0  67.0\n",
      "1      48.0  5951.0  22.0\n",
      "2      12.0  2096.0  49.0\n",
      "3      42.0  7882.0  45.0\n",
      "4      24.0  4870.0  53.0\n"
     ]
    }
   ],
   "source": [
    "print(df_num.head())"
   ]
  },
  {
   "cell_type": "code",
   "execution_count": 90,
   "metadata": {},
   "outputs": [
    {
     "name": "stdout",
     "output_type": "stream",
     "text": [
      "DURATION    0\n",
      "AMOUNT      0\n",
      "AGE         0\n",
      "dtype: int64\n"
     ]
    }
   ],
   "source": [
    "df_num = df_num.fillna(df_num.mean())\n",
    "print(df_num.isnull().sum())"
   ]
  },
  {
   "cell_type": "code",
   "execution_count": 91,
   "metadata": {},
   "outputs": [],
   "source": [
    "from sklearn.preprocessing import StandardScaler\n",
    "df_num_std = StandardScaler().fit_transform(df_num)"
   ]
  },
  {
   "cell_type": "code",
   "execution_count": 92,
   "metadata": {},
   "outputs": [
    {
     "name": "stdout",
     "output_type": "stream",
     "text": [
      "[[-1.23705454 -0.74863037  2.7790824 ]\n",
      " [ 2.25142428  0.94795756 -1.19394207]\n",
      " [-0.73870043 -0.4197435   1.18987261]\n",
      " ...\n",
      " [-0.73870043 -0.87812736  0.21868886]\n",
      " [ 2.00224722 -0.50879485 -1.10565264]\n",
      " [ 2.00224722  0.46012644 -0.7524949 ]]\n"
     ]
    }
   ],
   "source": [
    "print(df_num_std)"
   ]
  },
  {
   "cell_type": "markdown",
   "metadata": {},
   "source": [
    "#### Min-Max Normalisation:"
   ]
  },
  {
   "cell_type": "code",
   "execution_count": 94,
   "metadata": {},
   "outputs": [],
   "source": [
    "from sklearn import preprocessing\n",
    "min_max_scaler = preprocessing.MinMaxScaler(feature_range =(0, 1))"
   ]
  },
  {
   "cell_type": "code",
   "execution_count": 95,
   "metadata": {},
   "outputs": [],
   "source": [
    "df_num_after_min_max_scaler = min_max_scaler.fit_transform(df_num)"
   ]
  },
  {
   "cell_type": "code",
   "execution_count": 96,
   "metadata": {},
   "outputs": [
    {
     "name": "stdout",
     "output_type": "stream",
     "text": [
      "\n",
      "After MIN MAX Scaling : \n",
      " [[0.02941176 0.05056674 0.85714286]\n",
      " [0.64705882 0.31368989 0.05357143]\n",
      " [0.11764706 0.10157368 0.53571429]\n",
      " ...\n",
      " [0.11764706 0.03048311 0.33928571]\n",
      " [0.60294118 0.08776274 0.07142857]\n",
      " [0.60294118 0.23803235 0.14285714]]\n"
     ]
    }
   ],
   "source": [
    "print(\"\\nAfter MIN MAX Scaling : \\n\",df_num_after_min_max_scaler)"
   ]
  },
  {
   "cell_type": "code",
   "execution_count": null,
   "metadata": {},
   "outputs": [],
   "source": []
  },
  {
   "cell_type": "code",
   "execution_count": null,
   "metadata": {},
   "outputs": [],
   "source": []
  }
 ],
 "metadata": {
  "kernelspec": {
   "display_name": "Python 3",
   "language": "python",
   "name": "python3"
  },
  "language_info": {
   "codemirror_mode": {
    "name": "ipython",
    "version": 3
   },
   "file_extension": ".py",
   "mimetype": "text/x-python",
   "name": "python",
   "nbconvert_exporter": "python",
   "pygments_lexer": "ipython3",
   "version": "3.6.5"
  }
 },
 "nbformat": 4,
 "nbformat_minor": 2
}
